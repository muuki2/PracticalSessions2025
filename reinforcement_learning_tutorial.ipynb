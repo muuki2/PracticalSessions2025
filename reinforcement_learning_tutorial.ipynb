{
  "cells": [
    {
      "cell_type": "markdown",
      "metadata": {
        "id": "view-in-github",
        "colab_type": "text"
      },
      "source": [
        "<a href=\"https://colab.research.google.com/github/muuki2/PracticalSessions2025/blob/main/reinforcement_learning_tutorial.ipynb\" target=\"_parent\"><img src=\"https://colab.research.google.com/assets/colab-badge.svg\" alt=\"Open In Colab\"/></a>"
      ]
    },
    {
      "cell_type": "markdown",
      "metadata": {
        "id": "dEw2rH-Okh0E"
      },
      "source": [
        "# EEML'25: **Reinforcement Learning** Tutorial\n",
        "---\n",
        "**Authors**:\n",
        "* Miruna Pîslar (mirunapislar@google.com)\n",
        "* Daniele Calandriello (dcalandriello@google.com)\n",
        "\n",
        "Welcome! In this tutorial, we will guide you through the fundamentals of Reinforcement Learning (RL).\n",
        "\n",
        "## Tutorial outline\n",
        "\n",
        "*   **Setup & Installation**\n",
        "    *   Note: Please run this section first to allow time for downloads to complete while you read the theory sections.\n",
        "*   **Intro to Reinforcement Learning**: an overview of the main RL concepts.\n",
        "*   **Practical 1**: build and train an agent from scratch using the **REINFORCE** algorithm.\n",
        "*   **Practical 2 (Advanced)**: explore more powerful algorithms (A2C and PPO) by introducing concepts like value functions, advantage estimation, and entropy. This is an **optional** section for those who finish Practical 1 early or are already familiar with REINFORCE.\n",
        "*   **Practical 3**: learn about **RL*F** (Reinforcement Learning from Feedback) and use it to fine-tune GPT-2 to generate more positive text.\n"
      ]
    },
    {
      "cell_type": "markdown",
      "metadata": {
        "id": "4OocS0YnOyW6"
      },
      "source": [
        "## Setup and library installations\n",
        "---\n",
        "\n",
        "First, let's install the necessary libraries and import them. We will use [gymnasium](https://github.com/Farama-Foundation/Gymnasium) for our environment.\n",
        "\n",
        "For the last part of the tutorial, we will make use of HuggingFace pre-trained models, through [trl](https://github.com/huggingface/trl) and [transformers](https://github.com/huggingface/transformers).\n",
        "\n",
        "❗ Note: While a GPU is not mandatory for this tutorial, we recommend using it for Part 3 to speed up the training. You can do this by clicking `Runtime -> Change runtime type`, and set the hardware accelerator to GPU."
      ]
    },
    {
      "cell_type": "code",
      "execution_count": null,
      "metadata": {
        "collapsed": true,
        "id": "JhQA-p-4-QOQ"
      },
      "outputs": [],
      "source": [
        "#@title Downloads.\n",
        "%%capture\n",
        "!pip install trl==0.11.0 fsspec==2023.9.2 gymnasium\n"
      ]
    },
    {
      "cell_type": "code",
      "execution_count": null,
      "metadata": {
        "id": "S5BLJ_q3-ZEI"
      },
      "outputs": [],
      "source": [
        "#@title Imports & utils.\n",
        "import glob\n",
        "import io\n",
        "import os\n",
        "import base64\n",
        "import time\n",
        "from itertools import count\n",
        "\n",
        "from tqdm.notebook import tqdm\n",
        "import numpy as np\n",
        "import pandas as pd\n",
        "import matplotlib.pyplot as plt\n",
        "tqdm.pandas()\n",
        "\n",
        "# Gymnasium environment and Torch.\n",
        "import gymnasium as gym\n",
        "from gymnasium.wrappers import RecordVideo\n",
        "import torch\n",
        "import torch.nn as nn\n",
        "import torch.nn.functional as F\n",
        "import torch.optim as optim\n",
        "from torch.distributions import Categorical\n",
        "\n",
        "# For HuggingFace pre-trained models.\n",
        "from datasets import load_dataset\n",
        "from transformers import AutoTokenizer, pipeline, GenerationConfig, AutoModelForSequenceClassification\n",
        "from trl import PPOTrainer, PPOConfig, AutoModelForCausalLMWithValueHead, create_reference_model\n",
        "\n",
        "# For visualization\n",
        "import io\n",
        "import glob\n",
        "import base64\n",
        "from IPython.display import HTML\n",
        "from IPython import display as ipythondisplay\n",
        "\n",
        "\n",
        "# A reusable visualization function.\n",
        "def visualise_policy(\n",
        "    policy: nn.Module,\n",
        "    env_id: str = \"CliffWalking-v1\",\n",
        "    max_episode_steps: int = 200,\n",
        "    folder: str = \"./videos\",\n",
        "):\n",
        "    \"\"\"\n",
        "    Renders a video of a policy acting in an environment.\n",
        "\n",
        "    Args:\n",
        "        env_id (str): The ID of the gymnasium environment.\n",
        "        policy (nn.Module): The policy to be visualized.\n",
        "        max_episode_steps (int): The maximum number of steps per episode.\n",
        "        folder (str): The directory to save the video in.\n",
        "    \"\"\"\n",
        "    # Create a new environment for recording.\n",
        "    video_env = gym.make(env_id, render_mode=\"rgb_array\")\n",
        "    recorder_env = RecordVideo(video_env, folder, name_prefix=f\"vis-{env_id}\")\n",
        "\n",
        "    state, _ = recorder_env.reset()\n",
        "    policy.eval() # Set the policy to evaluation mode.\n",
        "\n",
        "    for _ in range(max_episode_steps):\n",
        "        with torch.no_grad(): # No need to track gradients for visualization.\n",
        "            # Handle different state types (int for discrete, numpy for continuous).\n",
        "            if isinstance(state, np.ndarray):\n",
        "                state_tensor = torch.tensor(state, dtype=torch.float32)\n",
        "            else: # Assumes int for discrete environments like CliffWalking.\n",
        "                state_tensor = torch.tensor(state)\n",
        "\n",
        "            # Get action probabilities from the policy.\n",
        "            action_logits = policy(state_tensor)\n",
        "            if isinstance(action_logits, tuple):\n",
        "              action_logits, _ = policy(state_tensor)\n",
        "\n",
        "            action_probs = F.softmax(action_logits, dim=-1)\n",
        "            action = Categorical(action_probs).sample().item()\n",
        "\n",
        "        state, _, terminated, truncated, _ = recorder_env.step(action)\n",
        "        done = terminated or truncated\n",
        "        if done:\n",
        "            break\n",
        "\n",
        "    recorder_env.close()\n",
        "\n",
        "    # Display the video.\n",
        "    mp4list = glob.glob(f'{folder}/*.mp4')\n",
        "    if len(mp4list) > 0:\n",
        "        mp4 = sorted(mp4list, key=os.path.getmtime)[-1]\n",
        "        video = io.open(mp4, 'r+b').read()\n",
        "        encoded = base64.b64encode(video)\n",
        "        ipythondisplay.display(HTML(data=f'''<video alt=\"test\" autoplay\n",
        "                    loop controls style=\"height: 200px;\">\n",
        "                    <source src=\"data:video/mp4;base64,{encoded.decode('ascii')}\" type=\"video/mp4\" />\n",
        "                </video>'''))\n",
        "    else:\n",
        "        print(f\"Could not find video in folder: {folder}\")\n",
        "\n",
        "\n",
        "# Utils for reward shaping.\n",
        "def get_shaped_reward(\n",
        "    env: gym.Env,\n",
        "    original_reward: float,\n",
        "    state: int,\n",
        "    next_state: int,\n",
        "    gamma: float = 0.99,\n",
        "    still_penalty: float = -2.0,\n",
        "    potential_multiplier: float = 5.0,\n",
        ") -> float:\n",
        "    \"\"\"\n",
        "    Calculates a shaped reward to better guide the agent.\n",
        "\n",
        "    Args:\n",
        "        env: Environment instance.\n",
        "        original_reward: Reward received from env.step().\n",
        "        state: Current state (before the action).\n",
        "        next_state: Next state (after the action).\n",
        "        gamma: Discount factor.\n",
        "        still_penalty: Penalty for not changing the state (i.e., inactivity).\n",
        "        potential_multiplier: Factor to amplify the potential-based pull.\n",
        "\n",
        "    Returns:\n",
        "        The newly calculated shaped reward.\n",
        "    \"\"\"\n",
        "    shaped_reward = original_reward\n",
        "    if state == next_state:  # penalty for staying in place.\n",
        "        shaped_reward += still_penalty\n",
        "\n",
        "    unwrapped_env = env.unwrapped\n",
        "    goal_state = unwrapped_env.observation_space.n - 1\n",
        "    goal_pos = np.unravel_index(goal_state, unwrapped_env.shape)\n",
        "\n",
        "    current_pos = np.unravel_index(state, unwrapped_env.shape)\n",
        "    next_pos = np.unravel_index(next_state, unwrapped_env.shape)\n",
        "\n",
        "    dist_to_goal_current = np.linalg.norm(np.array(current_pos) - np.array(goal_pos))\n",
        "    dist_to_goal_next = np.linalg.norm(np.array(next_pos) - np.array(goal_pos))\n",
        "\n",
        "    potential_current = -potential_multiplier * dist_to_goal_current\n",
        "    potential_next = -potential_multiplier * dist_to_goal_next\n",
        "\n",
        "    shaped_reward += (gamma * potential_next - potential_current)\n",
        "\n",
        "    return shaped_reward"
      ]
    },
    {
      "cell_type": "markdown",
      "metadata": {
        "id": "UgUqKQTwqrpl"
      },
      "source": [
        "## Intro to Reinforcement Learning\n",
        "---"
      ]
    },
    {
      "cell_type": "markdown",
      "metadata": {
        "id": "i3X36mQJ5sUL"
      },
      "source": [
        "Reinforcement Learning (RL) is about learning to make good decisions through trial and error. An **agent** (our learner) interacts with an **environment** (the world or game it's in) by taking **actions**. After each action, the environment provides a **reward** (a score) and a new **state** (the new observation of the world).\n",
        "\n",
        "This interaction follows a basic loop:\n",
        "\n",
        "1. The agent observes the current **state** $s_t$.\n",
        "2. It selects an **action** $a_t$ using its **policy** $\\pi$.\n",
        "3. The environment transitions to a **new state** $s_{t+1}$ and provides a **reward** $r_t$.\n",
        "4. The cycle repeats.\n"
      ]
    },
    {
      "cell_type": "markdown",
      "metadata": {
        "id": "ia9fKftNifw2"
      },
      "source": [
        "<img src=\"https://wizzdev.com/wp-content/uploads/2024/07/2_ML_concept.png\" alt=\"agent-environment\" width=\"500\"/>\n"
      ]
    },
    {
      "cell_type": "markdown",
      "metadata": {
        "id": "2yn8m0yEkoJy"
      },
      "source": [
        "### 🔁 Key Concepts\n",
        "\n",
        "* **Timestep** $t$: A single step in the environment, where the agent receives state $s_t$, takes action $a_t$, and gets reward $r_t$ and the next state $s_{t+1}$.\n",
        "\n",
        "* **Episode**: A full run from a starting state to a terminal state. For example, a full game from start to crash. This is also called a **trial** or a **trajectory**:\n",
        "\n",
        "  $$\n",
        "  \\tau = (s_0, a_0, r_0, s_1, a_1, r_1, \\dots, s_T)\n",
        "  $$"
      ]
    },
    {
      "cell_type": "markdown",
      "metadata": {
        "id": "Lsfp3oCDx4zp"
      },
      "source": [
        "### The environment we'll work with\n",
        "---\n",
        "\n",
        "[Gymnasium](https://gymnasium.farama.org/index.html) is a standard suite for loading reinforcement learning environments.\n",
        "\n",
        "For this tutorial, we will use the [CliffWalking](https://gymnasium.farama.org/environments/toy_text/cliff_walking/) environment. This is a `4x12` grid world environment. The agent starts at the bottom-left corner (at location $[3,0]$) and must reach the goal at the bottom-right (location $[3,11]$). The agent should follow the \"safe path\" (grass) and avoid the cliff area (in brown), which results in a large penalty if stepped on."
      ]
    },
    {
      "cell_type": "markdown",
      "metadata": {
        "id": "f-xKGfurP4ff"
      },
      "source": [
        "![CliffWalking environment](https://gymnasium.farama.org/_images/cliff_walking.gif)"
      ]
    },
    {
      "cell_type": "code",
      "execution_count": null,
      "metadata": {
        "id": "vY6PnAJ-zT0f",
        "outputId": "59e69127-426f-4a26-d0e4-f2d0480e2950",
        "colab": {
          "base_uri": "https://localhost:8080/"
        }
      },
      "outputs": [
        {
          "output_type": "stream",
          "name": "stdout",
          "text": [
            "Observation space (4x12): Discrete(48)\n",
            "Action space (up, right, down, left): Discrete(4)\n"
          ]
        }
      ],
      "source": [
        "#@title Load the \"CliffWalking\" environment.\n",
        "\n",
        "env = gym.make(\"CliffWalking-v1\")\n",
        "num_states = env.observation_space.n\n",
        "num_actions = env.action_space.n\n",
        "\n",
        "print(f\"Observation space (4x12): {env.observation_space}\")\n",
        "print(f\"Action space (up, right, down, left): {env.action_space}\")"
      ]
    },
    {
      "cell_type": "markdown",
      "metadata": {
        "id": "wYuE2ih9lTqm"
      },
      "source": [
        "\n",
        "The agent's **goal** is to learn the shortest path from the starting position 🪑 to the cookie 🍪.\n",
        "\n",
        "The agent's **state** is an integer representing the player’s current position, calculated as `current_row * 12 + current_col`. For example, the starting position can be calculated as follows: 3 * 12 + 0 = 36.\n",
        "\n",
        "The agent's **actions** are simply 4 basic moves, which are represented by 4 integers: UP (coded by 0), RIGHT (1), DOWN (2), and LEFT (3).\n",
        "\n",
        "The **reward** given by the environment after each step is:\n",
        "\n",
        "  * `-1` for every step on the safe path (grass).\n",
        "  * `-100` for falling off the cliff, which also ends the episode.\n",
        "  * Reaching the goal gives no additional reward, and ends the episode.\n",
        "\n",
        "**Question:** What is the **maximum** total reward the agent can receive if it achieves its goal?"
      ]
    },
    {
      "cell_type": "markdown",
      "metadata": {
        "id": "a35JU-As4wrw"
      },
      "source": [
        "### 🎯 Goal: maximize expected reward\n",
        "---\n",
        "\n",
        "In reinforcement learning, the agent’s goal is to collect as much reward as possible over time. We define this using the **return**, denoted $G_t$, which is the **discounted sum of future rewards starting at time step $t$**:\n",
        "\n",
        "$$\n",
        "G_t = \\sum_{k=0}^{∞} \\gamma^{k} r_{t+k+1}\n",
        "$$\n",
        "\n",
        "where $r_{t+k+1}$ is the reward received $k+1$ steps into the future.\n",
        "\n",
        "Here, $\\gamma \\in [0,1]$ is the **discount factor**. It determines how much the agent prioritizes long-term rewards over short-term ones. A discount factor close to 1 (e.g., 0.99) means the agent considers future rewards nearly as important as immediate rewards, whereas a value closer to 0 makes it focus more heavily on short-term outcomes.\n",
        "\n",
        "> 💡 Although often treated as a hyperparameter, $\\gamma$ is better viewed as part of the **problem definition**, not just something to tune for performance (like the learning rate)."
      ]
    },
    {
      "cell_type": "markdown",
      "metadata": {
        "id": "CIfAgVkZzo6T"
      },
      "source": [
        "\n",
        "#### ✏️ **Exercise: Calculate the discounted returns $G_t$**\n",
        "\n",
        "Let's calculate the **discounted return** $G_t$ for every step $t$ in an episode. This value represents the total future reward from that step onwards.\n",
        "\n",
        "For an episode that ends at a final timestep $T$ (e.g., reaching the goal or falling off the cliff), the discounted return is the finite sum:\n",
        "\n",
        "$$\n",
        "G_t = r_t + \\gamma r_{t+1} + \\gamma^2 r_{t+2} + \\dots + \\gamma^{T-t} r_{T} = \\sum_{k=0}^{T-t-1} \\gamma^k r_{t+k+1}\n",
        "$$\n",
        "\n",
        "Now, let's implement this logic in code.\n",
        "\n",
        "> Hint: Can you define this recursively?"
      ]
    },
    {
      "cell_type": "markdown",
      "metadata": {
        "id": "oIyKh6WlQJXI"
      },
      "source": [
        "<details>\n",
        "<summary>💡 Hints</summary>\n",
        "\n",
        "* Use the recursive form: $G_t = r_t + \\gamma G_{t+1}$.\n",
        "\n",
        "*   The easiest way is to work backward from the last reward to the first.\n",
        "\n",
        "*   Keep a running total for the return, starting at 0.\n",
        "\n",
        "*   In each backward step, update the total using the formula: `return = reward + gamma * return`.\n",
        "\n",
        "*   Add each new return you calculate to the front of your results list.\n",
        "\n",
        "*   Python's `reversed()` function is perfect for looping backward\n",
        "</details>"
      ]
    },
    {
      "cell_type": "code",
      "execution_count": null,
      "metadata": {
        "id": "GC4kwiPBQTUU"
      },
      "outputs": [],
      "source": [
        "# Implement discount return for each step t \\in [0,T].\n",
        "\n",
        "def get_returns(gamma: float, rewards: list[float], standardize: bool = True) -> torch.Tensor:\n",
        "    \"\"\"\n",
        "    Calculates the discounted returns for the entire rewards history.\n",
        "    \"\"\"\n",
        "    returns = []\n",
        "    discounted_return = 0\n",
        "\n",
        "    ################################################################\n",
        "    # Compute the returns for each step.\n",
        "\n",
        "    for r in reversed(rewards):\n",
        "      discounted_return = r + gamma * discounted_return\n",
        "      returns.insert(0, discounted_return)\n",
        "\n",
        "    ################################################################\n",
        "\n",
        "    # Cast to float.\n",
        "    returns = torch.tensor(returns, dtype=torch.float32)\n",
        "\n",
        "    # Standardize returns for stability (optional, but good practice).\n",
        "    if standardize:\n",
        "      eps = 1e-9  # Small constant for numerical stability.\n",
        "      returns = (returns - returns.mean()) / (returns.std() + eps)\n",
        "\n",
        "    return returns"
      ]
    },
    {
      "cell_type": "code",
      "execution_count": null,
      "metadata": {
        "id": "sQBXdBwNqq9B",
        "outputId": "be7b8647-8d9b-4ce5-9a01-a4c54070cbff",
        "colab": {
          "base_uri": "https://localhost:8080/"
        }
      },
      "outputs": [
        {
          "output_type": "stream",
          "name": "stdout",
          "text": [
            "✅ Test passed: discounted returns are correct!\n"
          ]
        }
      ],
      "source": [
        "#@title Test your implementation!\n",
        "\n",
        "def test_get_returns():\n",
        "    rewards = [1, 1, 1]  # Simple reward sequence.\n",
        "    gamma = 0.9\n",
        "\n",
        "    # Expected discounted returns (no standardization):\n",
        "    # G_0 = 1 + 0.9*1 + 0.9^2*1 = 1 + 0.9 + 0.81 = 2.71\n",
        "    # G_1 = 1 + 0.9*1 = 1 + 0.9 = 1.9\n",
        "    # G_2 = 1\n",
        "    expected_returns = torch.tensor([2.71, 1.9, 1.0], dtype=torch.float32)\n",
        "\n",
        "    returns_unstandardized = get_returns(gamma, rewards, standardize=False)\n",
        "\n",
        "    assert torch.allclose(returns_unstandardized, expected_returns, atol=1e-2), \\\n",
        "        f\"Expected {expected_returns}, but got {returns_unstandardized}\"\n",
        "\n",
        "    print(\"✅ Test passed: discounted returns are correct!\")\n",
        "\n",
        "test_get_returns()"
      ]
    },
    {
      "cell_type": "markdown",
      "metadata": {
        "id": "XRJf3d-uUIya"
      },
      "source": [
        "### Agent Policy\n",
        "---\n",
        "\n",
        "The agent's \"brain\" is its **Policy ($\\pi$)**, which is a function that decides which action to take in a given state.\n",
        "\n",
        "Formally, a policy is a mapping from states to a probability distribution over actions.\n",
        "\n",
        "$$\n",
        "\\pi(a | s) = \\text{probability of taking action } a \\text{ in state } s\n",
        "$$\n",
        "\n",
        "This means that in a state $s$, the policy doesn't just output a single best action. Instead, it gives a probability for *every* possible action. This allows the agent to explore by sometimes trying actions that don't have the highest probability, which is crucial for discovering new, better strategies.\n",
        "\n",
        "### From Policy Output to Action\n",
        "\n",
        "So, how do we get from a state to a concrete action? It's a simple three-step process:\n",
        "\n",
        "1.  **Get Action Scores (Logits)**: The policy takes the current state and outputs a raw score for each possible action; these scores are called **logits**.\n",
        "\n",
        "2.  **Convert to Probabilities (Softmax)**: Logits are just numbers; they can be positive or negative and don't sum to 1. To turn them into a valid probability distribution, we use the **softmax function**.\n",
        "\n",
        "    `Logits [2.0, 1.0, 0.1]  →  Softmax  →  Probabilities [0.66, 0.24, 0.09]`\n",
        "\n",
        "3.  **Sample an Action**: The agent then samples an action from this probability distribution. This means an action with a higher probability is more likely to be chosen, but it's not guaranteed.\n",
        "\n",
        "This entire process ensures that the agent's actions are guided by its learned preferences (the logits) while still allowing for **exploration**.\n",
        "\n",
        "### Implementing a Policy\n",
        "\n",
        "We can implement a policy in different ways. The two we will cover are:\n",
        "\n",
        "*   **Tabular Policy**: A simple lookup table. For each state, we store a list of action logits. This works perfectly for small environments like CliffWalking where we can list every possible state.\n",
        "*   **Neural Network Policy**: A more powerful function approximator that can handle environments with big or continuous state spaces (e.g., controlling a robot from camera images).\n",
        "\n",
        "We will start with a tabular policy, as it's the easiest to understand and implement."
      ]
    },
    {
      "cell_type": "markdown",
      "metadata": {
        "id": "JvkEu2OIvDSO"
      },
      "source": [
        "#### ✏️ **Exercise: Implement a tabular policy**\n",
        "\n",
        "Let's build a tabular policy called `GridPolicy`. The `forward` method has already been completed: it takes an observation (the agent's current location) and returns action logits.\n",
        "\n",
        "Your task is to instantiate the policy: create a learnable table of size `[number of states, number of actions]`. This table will hold the policy's logits."
      ]
    },
    {
      "cell_type": "markdown",
      "metadata": {
        "id": "P3e-3y1mSEQF"
      },
      "source": [
        "<details>\n",
        "<summary>💡 Hints</summary>\n",
        "\n",
        "*   First, create a tensor of random values using `torch.randn()`.\n",
        "\n",
        "* Think about the shape of this tabular policy: what is the shape of the table? Does it depend on the environment?\n",
        "\n",
        "*   To make this tensor a learnable parameter of the module, wrap the tensor you created inside `nn.Parameter()`.\n",
        "\n",
        "</details>"
      ]
    },
    {
      "cell_type": "code",
      "execution_count": null,
      "metadata": {
        "id": "yzkG0PavzoPw"
      },
      "outputs": [],
      "source": [
        "class GridPolicy(nn.Module):\n",
        "    \"\"\"\n",
        "    A policy for environments with a discrete state space (like a grid).\n",
        "    It's a simple table mapping each state to action logits.\n",
        "    \"\"\"\n",
        "    def __init__(self, num_states: int, num_actions: int):\n",
        "        super().__init__()\n",
        "        ################################################################\n",
        "        # Create a learnable parameter of size [num_states, num_actions].\n",
        "        # Your solution:\n",
        "        # self.policy = ...\n",
        "        ################################################################\n",
        "        self.policy = nn.Parameter(torch.randn(num_states, num_actions))\n",
        "    def forward(self, obs: int) -> torch.Tensor:\n",
        "        \"\"\"\n",
        "        Given an observation (state), return action logits.\n",
        "        \"\"\"\n",
        "        action_logits = self.policy[obs]\n",
        "        return action_logits"
      ]
    },
    {
      "cell_type": "code",
      "execution_count": null,
      "metadata": {
        "id": "4yEY_1LWQEi4",
        "outputId": "ff6a959b-a9be-41a0-a759-50e223c9975a",
        "colab": {
          "base_uri": "https://localhost:8080/"
        }
      },
      "outputs": [
        {
          "output_type": "stream",
          "name": "stdout",
          "text": [
            "Action logits for state 20: [-1.6563737  -0.36755514 -1.8195271  -0.40065485]\n",
            "Probabilities: [0.11125552 0.4036903  0.09450719 0.390547  ]\n",
            "Sampled Action: 3\n"
          ]
        }
      ],
      "source": [
        "# Let's instantiate the Grid policy and print the action logits for a custom state.\n",
        "\n",
        "untrained_policy = GridPolicy(num_states=num_states, num_actions=num_actions)\n",
        "test_obs = 20  #@param\n",
        "logits = untrained_policy(test_obs)\n",
        "print(f\"Action logits for state {test_obs}: {logits.detach().numpy()}\")\n",
        "\n",
        "# We can also use PyTorch's Categorical distribution to see the probabilities\n",
        "# and sample an action.\n",
        "action_distribution = Categorical(logits=logits)\n",
        "probabilities = action_distribution.probs\n",
        "sampled_action = action_distribution.sample()\n",
        "\n",
        "print(f\"Probabilities: {probabilities.detach().numpy()}\")\n",
        "print(f\"Sampled Action: {sampled_action.item()}\")"
      ]
    },
    {
      "cell_type": "code",
      "execution_count": null,
      "metadata": {
        "id": "_8h5v3Wc6G1i",
        "outputId": "0824804d-99c8-446c-fdda-51a09d3df56f",
        "colab": {
          "base_uri": "https://localhost:8080/",
          "height": 289
        }
      },
      "outputs": [
        {
          "output_type": "stream",
          "name": "stdout",
          "text": [
            "Visualizing an untrained GridPolicy with random weights...\n"
          ]
        },
        {
          "output_type": "stream",
          "name": "stderr",
          "text": [
            "/usr/local/lib/python3.11/dist-packages/gymnasium/wrappers/rendering.py:296: UserWarning: \u001b[33mWARN: Overwriting existing videos at /content/videos folder (try specifying a different `video_folder` for the `RecordVideo` wrapper if this is not desired)\u001b[0m\n",
            "  logger.warn(\n"
          ]
        },
        {
          "output_type": "display_data",
          "data": {
            "text/plain": [
              "<IPython.core.display.HTML object>"
            ],
            "text/html": [
              "<video alt=\"test\" autoplay\n",
              "                    loop controls style=\"height: 200px;\">\n",
              "                    <source src=\"data:video/mp4;base64,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\" type=\"video/mp4\" />\n",
              "                </video>"
            ]
          },
          "metadata": {}
        }
      ],
      "source": [
        "#@title Watch your untrained GridPolicy *random* agent!\n",
        "\n",
        "print(\"Visualizing an untrained GridPolicy with random weights...\")\n",
        "visualise_policy(\n",
        "    policy=untrained_policy,\n",
        "    max_episode_steps=50,\n",
        ")"
      ]
    },
    {
      "cell_type": "markdown",
      "metadata": {
        "id": "8dTXDq_CvNRR"
      },
      "source": [
        "# 🛠️ Practical 1: REINFORCE"
      ]
    },
    {
      "cell_type": "markdown",
      "metadata": {
        "id": "T2WjNCCAuFPY"
      },
      "source": [
        "### The REINFORCE algorithm\n",
        "---\n",
        "\n",
        "We have a policy, but how does it actually learn which actions to take?\n",
        "\n",
        "We'll use a famous policy gradient algorithm called **REINFORCE**. The core idea is intuitive:\n",
        "\n",
        "> If a trajectory had a high return, increase the probability of the actions taken in that trajectory. If it had a low return, decrease their probability.\n",
        "\n",
        "This is a form of trial-and-error learning. We're \"reinforcing\" good behaviors.\n",
        "\n",
        "### Agent's goal: maximizing expected return\n",
        "---\n",
        "\n",
        "Mathematically, our goal is to find the policy parameters, $\\theta$, that maximize the expected total discounted return, which is our objective function $J(\\theta)$.\n",
        "\n",
        "$$\n",
        "\\max_{\\theta} J(\\theta) \\quad \\text{where} \\quad J(\\theta) = \\mathbb{E}_{\\tau \\sim \\pi_\\theta}[G(\\tau)]\n",
        "$$\n",
        "\n",
        "This means we want to find the parameters $\\theta$ that, on average, produce trajectories ($\\tau$) with the highest possible total return $G(\\tau)$. The standard way to maximize a function is **gradient ascent**: we calculate the gradient of the objective with respect to the parameters, $\\nabla_\\theta J(\\theta)$, and take a small step in that direction.\n",
        "\n",
        "$$\n",
        "\\theta \\leftarrow \\theta + \\eta \\nabla_\\theta J(\\theta)\n",
        "$$\n",
        "\n",
        "where $\\eta$ is the learning rate.\n"
      ]
    },
    {
      "cell_type": "markdown",
      "metadata": {
        "id": "E4PFKC1M56eJ"
      },
      "source": [
        "<details>\n",
        "\n",
        "<summary> Challenge: finding the Policy Gradient</summary>\n",
        "\n",
        "The tricky part is calculating the gradient $\\nabla_\\theta J(\\theta)$. Let's write out the expectation to see why:\n",
        "\n",
        "$$\n",
        "\\nabla_\\theta J(\\theta) = \\nabla_\\theta \\mathbb{E}_{\\tau \\sim \\pi_\\theta}[G(\\tau)] = \\nabla_\\theta \\sum_{\\tau} P(\\tau|\\theta) G(\\tau)\n",
        "$$\n",
        "\n",
        "Here, $P(\\tau|\\theta)$ is the probability of a specific trajectory $\\tau$ occurring under our policy $\\pi_\\theta$. We run into two major problems:\n",
        "\n",
        "1.  **The gradient is outside an expectation that depends on $\\theta$**. The distribution of trajectories we sample from, $P(\\tau|\\theta)$, changes as we change our policy parameters $\\theta$. We can't just move the gradient inside the expectation, because the thing we are averaging over depends on the variable we're differentiating with respect to.\n",
        "\n",
        "2.  **The trajectory probability depends on the unknown environment dynamics**. The probability of a trajectory is a product of the policy's action probabilities and the environment's transition probabilities:\n",
        "\n",
        "$$\n",
        "P(\\tau|\\theta) = p(s_0) \\prod_{t=0}^{T-1} \\underbrace{\\pi_\\theta(a_t|s_t)}_{\\text{Our policy}} \\cdot \\underbrace{p(s_{t+1}|s_t, a_t)}_{\\text{Environment}}\n",
        "$$\n",
        "\n",
        "To compute the gradient $\\nabla_\\theta P(\\tau|\\theta)$, we would need to know the environment dynamics, $p(s_{t+1}|s_t, a_t)$, which in most interesting problems is unknown and complex. We can't differentiate a function we don't know!\n",
        "\n",
        "We seem to be stuck. How can we get a gradient that depends only on our policy and is easy to estimate from experience? This is where the **Policy Gradient Theorem** comes to the rescue.\n",
        "\n",
        "The theorem provides a clever way to rewrite the gradient, turning an intractable problem into a solvable one. It accomplishes two things: it moves the gradient operator *inside* the expectation, and it eliminates the need for the environment model.\n",
        "\n",
        "</details>\n",
        "\n",
        "<details>\n",
        "<summary> The Log Trick </summary>\n",
        "\n",
        "The key mathematical insight is a simple identity from calculus called the \"log-derivative trick\" or \"log-prob trick\": for any positive, differentiable function $f(x)$, its derivative can be written as:\n",
        "\n",
        "$$\n",
        "\\nabla f(x) = f(x) \\frac{\\nabla f(x)}{f(x)} = f(x) \\nabla \\log f(x)\n",
        "$$\n",
        "\n",
        "We can apply this to our trajectory probability, $P(\\tau|\\theta)$:\n",
        "\n",
        "$$\n",
        "\\nabla_\\theta P(\\tau|\\theta) = P(\\tau|\\theta) \\nabla_\\theta \\log P(\\tau|\\theta)\n",
        "$$\n",
        "\n",
        "Now we can substitute this back into our gradient calculation:\n",
        "\n",
        "$$\n",
        "\\begin{aligned}\n",
        "\\nabla_\\theta J(\\theta) &= \\nabla_\\theta \\sum_{\\tau} P(\\tau|\\theta) G(\\tau) \\\\\n",
        "&= \\sum_{\\tau} \\nabla_\\theta P(\\tau|\\theta) G(\\tau) \\\\\n",
        "&= \\sum_{\\tau} P(\\tau|\\theta) \\nabla_\\theta \\log P(\\tau|\\theta) G(\\tau) \\\\\n",
        "&= \\mathbb{E}_{\\tau \\sim \\pi_\\theta} \\left[ G(\\tau) \\cdot \\nabla_\\theta \\log P(\\tau|\\theta) \\right]\n",
        "\\end{aligned}\n",
        "$$\n",
        "\n",
        "This is a beautiful result! We've successfully moved the gradient operator inside the expectation. Now, we can estimate this gradient by simply running our policy and averaging the results—a **Monte Carlo** approach.\n",
        "\n",
        "</details>\n",
        "\n",
        "\n",
        "<details>\n",
        "<summary> Getting rid of the environment model </summary>\n",
        "\n",
        "But what about the second problem? Doesn't $\\nabla_\\theta \\log P(\\tau|\\theta)$ still depend on the environment dynamics? Let's expand it.\n",
        "\n",
        "Remember, the log of a product is the sum of logs:\n",
        "\n",
        "$$\n",
        "\\log P(\\tau|\\theta) = \\log p(s_0) + \\sum_{t=0}^{T-1} \\left( \\log \\pi_\\theta(a_t|s_t) + \\log p(s_{t+1}|s_t, a_t) \\right)\n",
        "$$\n",
        "\n",
        "Now, let's take the gradient with respect to our policy parameters, $\\theta$:\n",
        "\n",
        "$$\n",
        "\\nabla_\\theta \\log P(\\tau|\\theta) = \\nabla_\\theta \\left[ \\log p(s_0) + \\sum_{t=0}^{T-1} \\log \\pi_\\theta(a_t|s_t) + \\sum_{t=0}^{T-1} \\log p(s_{t+1}|s_t, a_t) \\right]\n",
        "$$\n",
        "\n",
        "The parameters $\\theta$ are only in our policy, $\\pi_\\theta$. The environment dynamics $p(s_{t+1}|s_t, a_t)$ and the initial state distribution $p(s_0)$ **do not depend on $\\theta$**. Therefore, their gradients are zero!\n",
        "\n",
        "$$\n",
        "\\nabla_\\theta \\log P(\\tau|\\theta) = \\sum_{t=0}^{T-1} \\nabla_\\theta \\log \\pi_\\theta(a_t|s_t)\n",
        "$$\n",
        "\n",
        "This is the final piece of the puzzle. The gradient of the log-probability of a trajectory is just the sum of the gradients of the log-probabilities of the actions taken.\n",
        "\n",
        "</details>\n",
        "\n",
        "<details>\n",
        "<summary>Further reading</summary>\n",
        "\n",
        "Check out [Lil'Log blogpost](https://lilianweng.github.io/posts/2018-04-08-policy-gradient/) about policy gradient algorithms.\n",
        "\n",
        "</details>"
      ]
    },
    {
      "cell_type": "markdown",
      "metadata": {
        "id": "MmzQ3iSJ5vl6"
      },
      "source": [
        "### From theory to practice: the REINFORCE update rule\n",
        "---\n",
        "\n",
        "Combining our results, we get the final expression for the policy gradient:\n",
        "\n",
        "$$\n",
        "\\nabla_\\theta J(\\theta) = \\mathbb{E}_{\\tau \\sim \\pi_\\theta} \\left[ G(\\tau) \\sum_{t=0}^{T-1} \\nabla_\\theta \\log \\pi_\\theta(a_t|s_t) \\right]\n",
        "$$\n",
        "\n",
        "This is an expectation, which we can approximate by running our policy to collect a batch of $N$ episodes (trajectories) and then averaging the results.\n",
        "\n",
        "One final, crucial optimization is based on **causality**. The action taken at timestep $t$ can only affect rewards from timestep $t$ onwards. It cannot affect past rewards. Therefore, to credit an action $a_t$, we should only use the return starting from that step, $G_t$.\n",
        "\n",
        "Replacing the full trajectory return $G(\\tau)$ with $G_t$ for each action's gradient term reduces variance and leads to more stable and faster learning.\n",
        "\n",
        "This gives us our final, practical formula for the gradient, which is the core of the **REINFORCE** algorithm. We estimate it by averaging over all the steps in our batch of episodes:\n",
        "\n",
        "$$\n",
        "\\nabla_\\theta J(\\theta) \\approx \\frac{1}{N} \\sum_{i=1}^{N} \\sum_{t=0}^{T_i-1} G_{i,t} \\cdot \\nabla_\\theta \\log \\pi_\\theta(a_{i,t} | s_{i,t})\n",
        "$$\n",
        "\n",
        "👨‍💻 Let's break this down one last time:\n",
        "*   We collect a batch of $N$ trajectories using our current policy $\\pi_\\theta$.\n",
        "*   For each step $t$ in each trajectory $i$:\n",
        "    *   We calculate the return, $G_{i,t}$.\n",
        "    *   We calculate the gradient of the log-probability of the action we took, $\\nabla_\\theta \\log \\pi_\\theta(a_{i,t} | s_{i,t})$. This term tells us which direction in parameter space would make that action more likely.\n",
        "    *   We scale this direction vector by the return $G_{i,t}$. If the future return was high, we push the parameters in that direction. If it was low (or negative), we push them in the opposite direction.\n",
        "*   We average all these scaled vectors together to get our final estimate of the policy gradient, and then update our parameters $\\theta$.\n",
        "\n",
        "✨ In the next exercise, you will implement the REINFORCE loss function."
      ]
    },
    {
      "cell_type": "markdown",
      "metadata": {
        "id": "LFgrdMgNnAXt"
      },
      "source": [
        "### Building a learning agent: implementation considerations\n",
        "---\n",
        "\n",
        "To keep our code clean and easy to understand, we'll separate our learning system into 3 components: the **Policy**, the **Agent**, and the **Algorithm**.\n",
        "\n",
        "1.  **Policy**: the \"brain\" of our operation.\n",
        "    *   **Role**: To decide which action to take in a given state. It maps a state to action logits. It contains the learnable parameters (the weights).\n",
        "    *   **Implementation**: The `GridPolicy` class. Later we'll implement  it as a neural network (`NNPolicy`).\n",
        "\n",
        "2.  **Agent**: the \"body\" or the complete entity that interacts with the world.\n",
        "    *   **Role**: It holds a policy and uses it to act in the environment. It's also responsible for collecting experience (the sequences of states, actions, and rewards). Crucially, it orchestrates the entire learning process.\n",
        "    *   **Implementation**: We will soon create a class called `ReinforceAgent`.\n",
        "\n",
        "3.  **Learning Algorithm**: the \"training rule\" that enables learning.\n",
        "    *   **Role**: It takes the experience collected by the Agent and uses it to update the Policy's parameters, making the policy better over time.\n",
        "    *   **Implementation**: The algorithm is the logic *inside* our Agent's `.update()` method. In this tutorial, the algorithm we will implement is called **REINFORCE**.\n",
        "\n",
        "This modular design is very convenient. Our `ReinforceAgent` will be able to train *any* kind of policy (`Grid_Policy`, `NN_Policy`, etc.) because the learning algorithm is separate from the policy's internal structure.\n",
        "\n",
        "```\n",
        "┌────────────────────────────────┐\n",
        "│   ReinforceAgent               │\n",
        "│  (The complete learner)        │\n",
        "│                                │\n",
        "│   ┌────────────────────────┐   │  <── The Agent HOLDS a Policy\n",
        "│   │         Policy         │   │\n",
        "│   │ (e.g., Grid_Policy or  │   │\n",
        "│   │      NN_Policy)        │   │\n",
        "│   └────────────────────────┘   │\n",
        "│                                │\n",
        "│   → select_action() uses Policy│  <── The Agent USES the Policy to act\n",
        "│   → update() implements        │  <── The Agent USES the Algorithm to learn\n",
        "│     REINFORCE Algorithm        │\n",
        "└────────────────────────────────┘\n",
        "```"
      ]
    },
    {
      "cell_type": "markdown",
      "metadata": {
        "id": "vbBexHMgQT7l"
      },
      "source": [
        "#### ✏️ **Exercise: Implement the REINFORCE Loss**\n",
        "\n",
        "Now we'll create the `ReinforceAgent`. The Agent takes as input a policy to choose actions (we will re-use the `GridPolicy` you implemented above) and implements the logic for updating the policy's parameters using the REINFORCE algorithm.\n",
        "\n",
        "Your task is to implement the REINFORCE loss using the `get_returns` function you already implemented above.\n",
        "\n",
        "> Note: Optimizers in PyTorch perform gradient *descent* (minimization). As we saw, the objective is to *maximize* $\\log \\pi_\\theta(a_t|s_t) * G_t$, so we'll implement our loss as the *negative* of this objective:\n",
        "\n",
        "$$ \\text{REINFORCE loss} = - \\sum_{t=0}^{T} \\log \\pi_\\theta(a_t | s_t) \\cdot G_t $$"
      ]
    },
    {
      "cell_type": "markdown",
      "metadata": {
        "id": "99AZMs1tTKPf"
      },
      "source": [
        "<details>\n",
        "<summary>💡 Hints</summary>\n",
        "\n",
        "*   Your goal is to translate the REINFORCE loss formula into code.\n",
        "\n",
        "*   Start by multiplying the `log_probs` tensor with the `returns` tensor. This operation is element-wise.\n",
        "\n",
        "*   Sum up all the elements of the resulting tensor to get a single scalar value. The `torch.sum()` function is what you need.\n",
        "\n",
        "*   Remember to put a negative sign in front of the final sum. This is because optimizers minimize a loss, but we want to maximize our objective.\n",
        "\n",
        "</details>"
      ]
    },
    {
      "cell_type": "code",
      "execution_count": null,
      "metadata": {
        "id": "MOkY5hQn0EKo"
      },
      "outputs": [],
      "source": [
        "class ReinforceAgent(nn.Module):\n",
        "    \"\"\"Implements the REINFORCE algorithm.\"\"\"\n",
        "\n",
        "    def __init__(self, policy: nn.Module, gamma: float = 0.99):\n",
        "        super().__init__()\n",
        "        self.policy = policy\n",
        "        self.gamma = gamma\n",
        "\n",
        "    def forward(self, obs: int) -> tuple[int, torch.Tensor]:\n",
        "        \"\"\"\n",
        "        Selects an action and returns it along with its log-probability.\n",
        "\n",
        "        Args:\n",
        "            obs: The current observation (state) from the environment.\n",
        "\n",
        "        Returns:\n",
        "            A tuple containing:\n",
        "            - int: The action selected by the policy.\n",
        "            - torch.Tensor: The log-probability of the selected action.\n",
        "        \"\"\"\n",
        "        # Get action logits from the policy network.\n",
        "        logits = self.policy(obs)\n",
        "\n",
        "        # Create a probability distribution directly from logits.\n",
        "        distribution = Categorical(logits=logits)\n",
        "\n",
        "        # Sample an action from the distribution and get log-prob.\n",
        "        action = distribution.sample()\n",
        "        log_prob_action = distribution.log_prob(action)\n",
        "\n",
        "        return action.item(), log_prob_action\n",
        "\n",
        "    def calculate_reinforce_loss(\n",
        "        self, returns: torch.Tensor, log_probs: torch.Tensor\n",
        "    ) -> torch.Tensor:\n",
        "        \"\"\"\n",
        "        Calculates the REINFORCE loss for a single episode.\n",
        "\n",
        "        Args:\n",
        "            returns: A tensor of discounted returns for one episode.\n",
        "            log_probs: A tensor of the log_probs for the actions in that episode.\n",
        "\n",
        "        Returns:\n",
        "            A tensor representing the calculated loss for the episode.\n",
        "        \"\"\"\n",
        "        ################################################################\n",
        "        # Calculate the REINFORCE loss.\n",
        "        # Your solution:\n",
        "        loss = -torch.dot(returns, log_probs)\n",
        "        ################################################################\n",
        "        return loss\n",
        "\n",
        "    def update(\n",
        "        self,\n",
        "        batch_log_probs: list[list[torch.Tensor]],\n",
        "        batch_rewards: list[list[float]],\n",
        "        optimizer: optim.Optimizer,\n",
        "    ):\n",
        "        \"\"\"\n",
        "        Performs the learning step for a batch of episodes.\n",
        "\n",
        "        For each episode in the batch:\n",
        "            * Calculates discounted returns from the stored rewards.\n",
        "            * Stacks the log_probs into a tensor.\n",
        "            * Computes the REINFORCE loss for the episode.\n",
        "            * Appends the episode loss to the list of losses.\n",
        "        Then, it averages the losses across the batch and performs a gradient\n",
        "        ascent step to update the policy.\n",
        "        \"\"\"\n",
        "        batch_loss = []\n",
        "        # Iterate over each episode in the batch.\n",
        "        for episode_rewards, episode_log_probs in zip(batch_rewards, batch_log_probs):\n",
        "            returns = get_returns(gamma=self.gamma, rewards=episode_rewards)\n",
        "            log_probs = torch.stack(episode_log_probs)\n",
        "            episode_loss = self.calculate_reinforce_loss(returns, log_probs)\n",
        "            batch_loss.append(episode_loss)\n",
        "        average_batch_loss = torch.stack(batch_loss).mean()\n",
        "\n",
        "        # Perform the gradient ascent step\n",
        "        optimizer.zero_grad()\n",
        "        average_batch_loss.backward()\n",
        "        optimizer.step()"
      ]
    },
    {
      "cell_type": "code",
      "execution_count": null,
      "metadata": {
        "cellView": "form",
        "id": "sPH5SxXVvMfj",
        "outputId": "3a181230-ac7d-47b4-bcb2-7e3721a2f9ef",
        "colab": {
          "base_uri": "https://localhost:8080/"
        }
      },
      "outputs": [
        {
          "output_type": "stream",
          "name": "stdout",
          "text": [
            "✅ TEST PASSED!\n",
            "Your loss: 0.3, Expected loss: 0.3\n"
          ]
        }
      ],
      "source": [
        "#@title Test your implementation of the `calculate_reinforce_loss` method.\n",
        "\n",
        "def test_agent_loss_method():\n",
        "    agent = ReinforceAgent(policy=untrained_policy)\n",
        "    returns = torch.tensor([2.0, -0.5, -1.0])\n",
        "    log_probs = torch.tensor([-0.5, -1.0, -0.2])\n",
        "    calculated_loss = agent.calculate_reinforce_loss(returns, log_probs)\n",
        "\n",
        "    # Expected: -sum([-0.5*2.0, -1.0*-0.5, -0.2*-1.0]) = -sum([-1.0, 0.5, 0.2]).\n",
        "    expected_loss = torch.tensor(0.3)\n",
        "\n",
        "    if torch.isclose(calculated_loss, expected_loss):\n",
        "        print(\"✅ TEST PASSED!\")\n",
        "        print(f\"Your loss: {calculated_loss.item():.1f}, \"\n",
        "              f\"Expected loss: {expected_loss.item():.1f}\")\n",
        "    else:\n",
        "        print(\"❌ TEST FAILED!\")\n",
        "        print(f\"Your loss: {calculated_loss.item():.1f}, \"\n",
        "              f\"Expected loss: {expected_loss.item():.1f}\")\n",
        "\n",
        "# Run the test\n",
        "test_agent_loss_method()"
      ]
    },
    {
      "cell_type": "markdown",
      "metadata": {
        "id": "pMNVZp2OQ37U"
      },
      "source": [
        "### Training loop for the REINFORCE Agent\n",
        "\n",
        "We now have all the components. The final step is to orchestrate the agent-environment interaction. The loop will look like this:\n",
        "\n",
        "1.  Play a number of episodes (`episodes_per_batch`).\n",
        "2.  In each episode:\n",
        "    -   Reset the environment.\n",
        "    -   Loop until the episode is `done` (terminated or truncated):\n",
        "        -   The agent chooses an action.\n",
        "        -   The environment gives a new state and reward.\n",
        "        -   Store the reward in the agent's history.\n",
        "3.  After collecting data from the batch, call `agent.update()` to learn.\n",
        "4.  Repeat for a number of updates.\n",
        "\n",
        "Read through the training loop implementation below."
      ]
    },
    {
      "cell_type": "code",
      "execution_count": null,
      "metadata": {
        "id": "blQxw3jN6YyY"
      },
      "outputs": [],
      "source": [
        "def train_agent(\n",
        "    env: gym.Env,\n",
        "    agent: ReinforceAgent,\n",
        "    optimizer: optim.Optimizer,\n",
        "    num_updates: int,\n",
        "    episodes_per_batch: int,\n",
        "    max_episode_steps: int,\n",
        "    convergence_threshold: float,\n",
        "    log_frequency: int,\n",
        "):\n",
        "    \"\"\"\n",
        "    A generic function to train a REINFORCE agent.\n",
        "\n",
        "    Args:\n",
        "        env: The gymnasium environment to train in.\n",
        "        agent: The ReinforceAgent to train.\n",
        "        optimizer: The optimizer for the agent's policy.\n",
        "        num_updates: The total number of policy updates to perform.\n",
        "        episodes_per_batch: The number of episodes to run per policy update.\n",
        "        max_episode_steps: The maximum steps allowed per episode.\n",
        "        convergence_threshold: The average reward to aim for to \"solve\" the env.\n",
        "        log_frequency: How often (in updates) to print progress.\n",
        "\n",
        "    Returns:\n",
        "        A tuple of avg_rewards for plotting.\n",
        "    \"\"\"\n",
        "    avg_rewards = []\n",
        "\n",
        "    print(f\"Starting training for {agent.policy.__class__.__name__}...\")\n",
        "    pbar = tqdm(range(num_updates), mininterval=2)\n",
        "    for i in pbar:\n",
        "        # These lists will store the experience for the entire batch.\n",
        "        batch_rewards = []\n",
        "        batch_log_probs = []\n",
        "        batch_episode_rewards = []\n",
        "\n",
        "        for _ in range(episodes_per_batch+1):\n",
        "            episode_rewards = []\n",
        "            episode_log_probs = []\n",
        "            total_episode_reward = 0\n",
        "            state, _ = env.reset()\n",
        "\n",
        "            for step in range(max_episode_steps):\n",
        "                # This is to handle state differences between environments:\n",
        "                # e.g., int for CliffWalking, numpy array for CartPole.\n",
        "                if isinstance(state, np.ndarray):\n",
        "                    state_tensor = torch.tensor(state, dtype=torch.float32)\n",
        "                else:\n",
        "                    state_tensor = state\n",
        "\n",
        "                # Get action & log_prob from the agent.\n",
        "                action, log_prob = agent(state_tensor)\n",
        "                next_state, reward, terminated, truncated, _ = env.step(action)\n",
        "                done = terminated or truncated\n",
        "\n",
        "                # *** Apply reward shaping for faster convergence ***\n",
        "                shaped_reward = get_shaped_reward(env, reward, state, next_state)\n",
        "\n",
        "                # Store experience for the current episode.\n",
        "                episode_rewards.append(shaped_reward)\n",
        "                episode_log_probs.append(log_prob)\n",
        "                total_episode_reward += reward\n",
        "                state = next_state\n",
        "\n",
        "                if done:\n",
        "                    break\n",
        "\n",
        "            # After the episode is done, add its history to the batch history.\n",
        "            batch_rewards.append(episode_rewards)\n",
        "            batch_log_probs.append(episode_log_probs)\n",
        "            batch_episode_rewards.append(total_episode_reward)\n",
        "\n",
        "        # 2. Update the agent's policy using the collected batch of experience.\n",
        "        agent.update(batch_log_probs, batch_rewards, optimizer)\n",
        "\n",
        "        # 3. Logging.\n",
        "        avg_reward_for_batch = np.mean(batch_episode_rewards)\n",
        "        avg_rewards.append(avg_reward_for_batch)\n",
        "\n",
        "        if i % log_frequency == 0:\n",
        "            print()\n",
        "        pbar.set_postfix(avg_reward=f\"{avg_reward_for_batch:.2f}\")\n",
        "\n",
        "        # 4. Check for convergence.\n",
        "        if avg_reward_for_batch > convergence_threshold:\n",
        "            print(f\"\\nSolved at update {i}!\")\n",
        "            break\n",
        "\n",
        "    return avg_rewards"
      ]
    },
    {
      "cell_type": "markdown",
      "metadata": {
        "id": "2AJmQBetLfqc"
      },
      "source": [
        "Let's run the training loop for the ReinforceAgent training a GridPolicy.\n",
        "\n",
        "There's nothing for you to code, but feel free to experiment with the hyperparameters! 🚀"
      ]
    },
    {
      "cell_type": "code",
      "execution_count": null,
      "metadata": {
        "id": "pttE4Ep4LbVh",
        "outputId": "ad249874-df89-4dbe-e226-30fdc527b406",
        "colab": {
          "base_uri": "https://localhost:8080/",
          "height": 296,
          "referenced_widgets": [
            "8cb67d6ea2f841b9af4e2614a411afa7",
            "9e258c67c7c7413fa64c1e51ab30a3cd",
            "231f80f909e8452589dc1caaf5859d65",
            "5720ba3aa26e463a99a058dc5fc3548b",
            "a6de00760d824c88bf5e3827a4970408",
            "dd3fb8ef0d5848ac9b800a1852228b38",
            "0f9cc4409f15462ab12ca3de3d3e60d2",
            "d32a3d096cc04e629e879d87efba31b5",
            "2415100829e4449e9e051a70530caafd",
            "7925b90d29b84c8c88d306fc085f9e31",
            "5d1a18442e3c4b0bb4440b8b734d6d4d"
          ]
        }
      },
      "outputs": [
        {
          "output_type": "stream",
          "name": "stdout",
          "text": [
            "Starting training for GridPolicy...\n"
          ]
        },
        {
          "output_type": "display_data",
          "data": {
            "text/plain": [
              "  0%|          | 0/700 [00:00<?, ?it/s]"
            ],
            "application/vnd.jupyter.widget-view+json": {
              "version_major": 2,
              "version_minor": 0,
              "model_id": "8cb67d6ea2f841b9af4e2614a411afa7"
            }
          },
          "metadata": {}
        },
        {
          "output_type": "stream",
          "name": "stdout",
          "text": [
            "\n",
            "\n",
            "\n",
            "\n",
            "\n",
            "\n",
            "\n",
            "\n",
            "\n",
            "\n",
            "\n",
            "\n",
            "\n",
            "\n"
          ]
        }
      ],
      "source": [
        "# --- Hyperparameters ---\n",
        "TABULAR_LEARNING_RATE = 0.1  # @param\n",
        "TABULAR_GAMMA = 0.95  # @param\n",
        "TABULAR_NUM_UPDATES = 700  # @param\n",
        "TABULAR_EPISODES_PER_BATCH = 10  # @param\n",
        "TABULAR_MAX_EPISODE_STEPS = 100  # @param\n",
        "\n",
        "\n",
        "# --- Initialization ---\n",
        "grid_policy = GridPolicy(num_states, num_actions)\n",
        "grid_agent = ReinforceAgent(grid_policy, gamma=TABULAR_GAMMA)\n",
        "grid_optimizer = optim.Adam(grid_policy.parameters(), lr=TABULAR_LEARNING_RATE)\n",
        "\n",
        "\n",
        "# --- Run Training ---\n",
        "grid_avg_rewards = train_agent(\n",
        "    env=env,\n",
        "    agent=grid_agent,\n",
        "    optimizer=grid_optimizer,\n",
        "    num_updates=TABULAR_NUM_UPDATES,\n",
        "    episodes_per_batch=TABULAR_EPISODES_PER_BATCH,\n",
        "    max_episode_steps=TABULAR_MAX_EPISODE_STEPS,\n",
        "    convergence_threshold=-15,\n",
        "    log_frequency=50,\n",
        ")"
      ]
    },
    {
      "cell_type": "markdown",
      "metadata": {
        "id": "KWG8wGGfREG8"
      },
      "source": [
        "Let's plot the learning progress. You should see the average reward increase 📈."
      ]
    },
    {
      "cell_type": "code",
      "execution_count": null,
      "metadata": {
        "id": "tBNJGQ7fQ3eZ",
        "outputId": "c207c3db-1ac7-4b7e-d08d-1ce882828868",
        "colab": {
          "base_uri": "https://localhost:8080/",
          "height": 409
        }
      },
      "outputs": [
        {
          "output_type": "display_data",
          "data": {
            "text/plain": [
              "<Figure size 800x400 with 1 Axes>"
            ],
            "image/png": "[encoded data removed]"
          },
          "metadata": {}
        }
      ],
      "source": [
        "#@title Plotting learning progress for the Reinforce Agent with GridPolicy.\n",
        "plt.figure(figsize=(8, 4))\n",
        "plt.plot(grid_avg_rewards)\n",
        "plt.title(\"Average Episodic Reward (GridPolicy)\")\n",
        "plt.xlabel(\"Update Batch\")\n",
        "plt.ylabel(\"Average Reward\")\n",
        "plt.grid(True)\n",
        "plt.show()"
      ]
    },
    {
      "cell_type": "code",
      "execution_count": null,
      "metadata": {
        "id": "bbdbDzb7ROyf",
        "outputId": "d3038173-7c20-40ef-ec51-318b51a58a7a",
        "colab": {
          "base_uri": "https://localhost:8080/",
          "height": 220
        }
      },
      "outputs": [
        {
          "output_type": "display_data",
          "data": {
            "text/plain": [
              "<IPython.core.display.HTML object>"
            ],
            "text/html": [
              "<video alt=\"test\" autoplay\n",
              "                    loop controls style=\"height: 200px;\">\n",
              "                    <source src=\"data:video/mp4;base64,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\" type=\"video/mp4\" />\n",
              "                </video>"
            ]
          },
          "metadata": {}
        }
      ],
      "source": [
        "#@title Watch your trained GridPolicy REINFORCE agent!\n",
        "\n",
        "visualise_policy(\n",
        "    policy=grid_agent.policy,\n",
        "    max_episode_steps=TABULAR_MAX_EPISODE_STEPS\n",
        ")"
      ]
    },
    {
      "cell_type": "markdown",
      "metadata": {
        "id": "ZrPCPACBsVOH"
      },
      "source": [
        "### A More General Approach: The Neural Network Policy\n",
        "\n",
        "Our `Grid_Policy` (a lookup table) worked, but for larger or continuous state spaces, tables quickly become impractical.\n",
        "\n",
        "We can replace our specialized table with a general-purpose **function approximator**: a neural network (NN) 🕸️. While it may seem like overkill here, it's a good exercise to show how we can apply these more powerful models.\n",
        "\n",
        "Neural networks require inputs to be vectors, not single integers. So we need to convert a state like `27` into a vector format.\n",
        "\n",
        "The standard method is **one-hot encoding**: we create a vector with one entry for each possible state (e.g., 48 total), all set to `0`, and set the element at index `27` to `1`.\n",
        "\n",
        "For example:\n",
        "\n",
        "```\n",
        "state = 27  \n",
        "=>  \n",
        "one_hot_vector = [0, 0, ..., 1, 0, ...]  # 1 at index 27\n",
        "```\n",
        "\n",
        "Now, let’s build a policy that performs this encoding and feeds the result into a simple MLP."
      ]
    },
    {
      "cell_type": "markdown",
      "metadata": {
        "id": "OIWjbRU_wB4k"
      },
      "source": [
        "#### ✏️ **Exercise: Define the NN Architecture**\n",
        "\n",
        "First, complete the `__init__` method by defining a simple 2-3 layer MLP using `nn.Sequential`. Make sure that your input dimension will be the total number of states. Then, complete the `forward` method. This is where you'll convert the integer observation into a one-hot vector before passing it to your network."
      ]
    },
    {
      "cell_type": "markdown",
      "metadata": {
        "id": "frG9Yw-WTblM"
      },
      "source": [
        "<details>\n",
        "<summary>💡 Hints</summary>\n",
        "\n",
        "For the `__init__` method:\n",
        "\n",
        "*   Use `nn.Sequential` to define the network architecture.\n",
        "*   Your **first** layer should be an `nn.Linear` that maps `num_states` to a hidden size (e.g., 32).\n",
        "*   Follow this with an `nn.ReLU()` activation function.\n",
        "*   Your **last** layer should be an `nn.Linear` that maps the hidden size to `num_actions`.\n",
        "*   Feel free to add extra layers and play with the number of hidden sizes.\n",
        "\n",
        "For the `forward` method:\n",
        "\n",
        "*   Use the `F.one_hot()` function to convert the integer observation into a one-hot vector.\n",
        "*   Make sure to set the `num_classes` argument in `F.one_hot()` to `self.num_states`.\n",
        "\n",
        "</details>"
      ]
    },
    {
      "cell_type": "code",
      "execution_count": null,
      "metadata": {
        "id": "4qHMx9xYpcoi"
      },
      "outputs": [],
      "source": [
        "class NNPolicy(nn.Module):\n",
        "    \"\"\"\n",
        "    A policy parameterized by a neural network. It uses one-hot encoding\n",
        "    to handle discrete state spaces.\n",
        "    \"\"\"\n",
        "    def __init__(self, num_states: int, num_actions: int):\n",
        "        super().__init__()\n",
        "        self.num_states = num_states\n",
        "\n",
        "        ################################################################\n",
        "        # Build a simple 2-3 layer MLP for the policy.\n",
        "        # Your solution:\n",
        "        hidden_dim1 = 128\n",
        "        hidden_dim2 = 64\n",
        "        self.policy_net = nn.Sequential(\n",
        "            nn.Linear(num_states, hidden_dim1),\n",
        "            nn.ReLU(),\n",
        "            nn.Linear(hidden_dim1, hidden_dim2),\n",
        "            nn.ReLU(),\n",
        "            nn.Linear(hidden_dim2, num_actions)\n",
        "        )\n",
        "        ################################################################\n",
        "\n",
        "    def forward(self, obs: int) -> torch.Tensor:\n",
        "        \"\"\"\n",
        "        Performs a forward pass. It takes an integer observation,\n",
        "        converts it to a one-hot vector, and passes it through the network.\n",
        "        \"\"\"\n",
        "        # First, convert the integer observation to a tensor\n",
        "        obs_tensor = torch.tensor(obs, dtype=torch.long)\n",
        "\n",
        "        ################################################################\n",
        "        # Convert the observation tensor to a one-hot vector.\n",
        "        # Your solution:\n",
        "        one_hot_obs = F.one_hot(obs_tensor, num_classes=self.num_states)\n",
        "        ################################################################\n",
        "\n",
        "        # Cast the result to a float tensor.\n",
        "        one_hot_obs = one_hot_obs.float()\n",
        "\n",
        "        # Pass the one-hot vector through the network to get logits.\n",
        "        action_logits = self.policy_net(one_hot_obs)\n",
        "        return action_logits"
      ]
    },
    {
      "cell_type": "markdown",
      "metadata": {
        "id": "vSijgWWp1V2C"
      },
      "source": [
        "### Training loop for the `NNPolicy` REINFORCE Agent\n",
        "\n",
        "Just like before, our modular `ReinforceAgent` can use this new policy without any changes to its own code. We simply instantiate the `NNPolicy` and run the same training loop.\n",
        "\n",
        "In the code block below, we initialize the `NNPolicy`, the `ReinforceAgent`, and the optimizer. Then, run the training loop to solve `CliffWalking` with your new neural network policy."
      ]
    },
    {
      "cell_type": "code",
      "execution_count": null,
      "metadata": {
        "id": "fSQ4tD3U12G1",
        "outputId": "239caef2-8c96-4add-f170-65136aedcee9",
        "colab": {
          "base_uri": "https://localhost:8080/",
          "height": 247,
          "referenced_widgets": [
            "be06fe7594964ac1bb7931b8b26fe30a",
            "48f68a486f9c4e2fb77a9bc63a41d0d8",
            "cd49591d42414c65b743ee76c35754a4",
            "f6cea876ef304e6487699ae8dccb5885",
            "a97f4859982444ab95f823623ae677b8",
            "cc2bdfbb2c374411bb6513b72fc9c97c",
            "dc3c72534605427e8427e145cff99e3d",
            "c2a9d95c4ec24db0af3d1dce0a525436",
            "557e7a91005942b89297f23591b9b4f4",
            "935641bc9efc41a38b9ec214d17949ce",
            "7cd6ee5245aa439f8537437543e17082"
          ]
        }
      },
      "outputs": [
        {
          "output_type": "stream",
          "name": "stdout",
          "text": [
            "Starting training for NNPolicy...\n"
          ]
        },
        {
          "output_type": "display_data",
          "data": {
            "text/plain": [
              "  0%|          | 0/700 [00:00<?, ?it/s]"
            ],
            "application/vnd.jupyter.widget-view+json": {
              "version_major": 2,
              "version_minor": 0,
              "model_id": "be06fe7594964ac1bb7931b8b26fe30a"
            }
          },
          "metadata": {}
        },
        {
          "output_type": "stream",
          "name": "stdout",
          "text": [
            "\n",
            "\n",
            "\n",
            "\n",
            "\n",
            "\n",
            "\n",
            "\n",
            "\n",
            "\n",
            "Solved at update 414!\n"
          ]
        }
      ],
      "source": [
        "# --- Hyperparameters for NN on CliffWalking ---\n",
        "NN_LEARNING_RATE = 0.001  # @param\n",
        "NN_GAMMA = 0.99  # @param\n",
        "NN_NUM_UPDATES = 700  # @param\n",
        "NN_EPISODES_PER_BATCH = 10  # @param\n",
        "NN_MAX_EPISODE_STEPS = 100  # @param\n",
        "\n",
        "\n",
        "# --- Initialization ---\n",
        "nn_policy = NNPolicy(num_states, num_actions)\n",
        "nn_agent = ReinforceAgent(nn_policy, gamma=NN_GAMMA)\n",
        "nn_optimizer = optim.Adam(nn_policy.parameters(), lr=NN_LEARNING_RATE)\n",
        "\n",
        "\n",
        "# --- Run Training ---\n",
        "nn_avg_rewards = train_agent(\n",
        "    env=env,\n",
        "    agent=nn_agent,\n",
        "    optimizer=nn_optimizer,\n",
        "    num_updates=NN_NUM_UPDATES,\n",
        "    episodes_per_batch=NN_EPISODES_PER_BATCH,\n",
        "    max_episode_steps=NN_MAX_EPISODE_STEPS,\n",
        "    convergence_threshold=-14,\n",
        "    log_frequency=50,\n",
        ")"
      ]
    },
    {
      "cell_type": "code",
      "execution_count": null,
      "metadata": {
        "cellView": "form",
        "id": "uNb7ZkuOtrYl",
        "outputId": "4f2a2d59-ef01-4fb5-ce24-f8abfd9c95e4",
        "colab": {
          "base_uri": "https://localhost:8080/",
          "height": 409
        }
      },
      "outputs": [
        {
          "output_type": "display_data",
          "data": {
            "text/plain": [
              "<Figure size 800x400 with 1 Axes>"
            ],
            "image/png": "[encoded data removed]"
          },
          "metadata": {}
        }
      ],
      "source": [
        "#@title Plotting learning progress for the Reinforce Agent with NNPolicy.\n",
        "plt.figure(figsize=(8, 4))\n",
        "plt.plot(nn_avg_rewards)\n",
        "plt.title(\"Average Episodic Reward (NN Policy)\")\n",
        "plt.xlabel(\"Update Batch\")\n",
        "plt.ylabel(\"Average Reward\")\n",
        "plt.grid(True)\n",
        "plt.show()"
      ]
    },
    {
      "cell_type": "code",
      "execution_count": null,
      "metadata": {
        "cellView": "form",
        "id": "06ekFpwPt6lj",
        "outputId": "e23df380-eba5-455f-d15f-f50b2b686300",
        "colab": {
          "base_uri": "https://localhost:8080/",
          "height": 272
        }
      },
      "outputs": [
        {
          "output_type": "stream",
          "name": "stderr",
          "text": [
            "/tmp/ipython-input-29-125159748.py:30: UserWarning: To copy construct from a tensor, it is recommended to use sourceTensor.clone().detach() or sourceTensor.clone().detach().requires_grad_(True), rather than torch.tensor(sourceTensor).\n",
            "  obs_tensor = torch.tensor(obs, dtype=torch.long)\n"
          ]
        },
        {
          "output_type": "display_data",
          "data": {
            "text/plain": [
              "<IPython.core.display.HTML object>"
            ],
            "text/html": [
              "<video alt=\"test\" autoplay\n",
              "                    loop controls style=\"height: 200px;\">\n",
              "                    <source src=\"data:video/mp4;base64,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\" type=\"video/mp4\" />\n",
              "                </video>"
            ]
          },
          "metadata": {}
        }
      ],
      "source": [
        "#@title Watch your NN-based agent!\n",
        "\n",
        "visualise_policy(\n",
        "    policy=nn_agent.policy,\n",
        "    max_episode_steps=500,\n",
        "    folder=\"./videos_nn\"\n",
        ")"
      ]
    },
    {
      "cell_type": "markdown",
      "metadata": {
        "id": "JhVYbFxcuVtP"
      },
      "source": [
        "### **Conclusion**\n",
        "\n",
        "Congratulations! 🥳\n",
        "\n",
        "You now have a solid foundation in policy gradient methods. From here, you can explore more advanced algorithms like **Actor-Critic (A2C)** and **Proximal Policy Optimization (PPO)**, which build upon the core ideas you've learned today to offer even better stability and performance. Happy learning!"
      ]
    },
    {
      "cell_type": "markdown",
      "metadata": {
        "id": "V454B476owZN"
      },
      "source": [
        "# 🛠️ Practical 2 (Advanced): A2C and PPO"
      ]
    },
    {
      "cell_type": "markdown",
      "metadata": {
        "id": "2vILvAAmWZi0"
      },
      "source": [
        "In this practical, we will learn about [Advantage Actor-Critic(A2C)](https://arxiv.org/abs/1602.01783) and [Proximal Policy Optimization (PPO)](https://arxiv.org/abs/1707.06347).\n",
        "\n",
        "For this part, we will use the [CartPole](https://gymnasium.farama.org/environments/classic_control/cart_pole/) environment.\n",
        "\n",
        "**[CartPole](https://gymnasium.farama.org/environments/classic_control/cart_pole/)** is a classic control task where the goal is to balance a pole upright on a moving cart. The agent observes a 4-dimensional continuous state (cart position, cart velocity, pole angle, and pole angular velocity) and chooses between 2 discrete actions: move the cart left or right. The episode ends when the pole falls past a certain angle, the cart moves out of bounds, or 500 time steps elapse. The agent receives a reward of +1 for each time step the pole remains balanced, with a maximum possible score of 500 per episode.\n",
        "\n",
        "\n",
        "![cart-pole](https://gymnasium.farama.org/_images/cart_pole.gif)"
      ]
    },
    {
      "cell_type": "code",
      "execution_count": null,
      "metadata": {
        "cellView": "form",
        "id": "mnjZHohosBtc"
      },
      "outputs": [],
      "source": [
        "#@title Load the \"CartPole\" environment.\n",
        "\n",
        "env = gym.make(\"CartPole-v1\")\n",
        "num_actions = env.action_space.n\n",
        "input_dim = env.observation_space.shape[0]\n",
        "\n",
        "print(f\"Observation space (continuous): {env.observation_space.shape}\")\n",
        "print(f\"Action space: {env.action_space}\")"
      ]
    },
    {
      "cell_type": "markdown",
      "metadata": {
        "id": "38Sk9vGhNQEV"
      },
      "source": [
        "### Problems with REINFORCE\n",
        "---\n",
        "\n",
        "The REINFORCE algorithm has one major drawback: **high variance** in its gradient estimates.\n",
        "\n",
        "Let's look at the update rule again. The policy gradient is scaled by the return $G_{i,t}$:\n",
        "$$\n",
        "\\nabla_\\theta J(\\theta) \\approx \\frac{1}{N} \\sum_{i=1}^{N} \\sum_{t=0}^{T_i-1} \\color{red}{G_{i,t}} \\color{black}{\\cdot \\nabla_\\theta \\log \\pi_\\theta(a_{i,t} | s_{i,t})}\n",
        "$$\n",
        "\n",
        "This single scalar value, $G_{i,t}$, is used to credit every action from step $t$ onwards. This creates two problems related to what is known as **credit assignment**:\n",
        "\n",
        "1.  **Good actions in a bad trajectory get penalized.** Imagine an agent takes one great action but then makes a series of blunders, leading to a low total return. The great action will still be discouraged because the overall outcome was poor.\n",
        "2.  **Bad actions in a good trajectory get rewarded.** Conversely, a single lucky action at the end of an episode can result in a high return, causing all preceding actions (even poor ones) to be reinforced.\n",
        "\n",
        "Because the Monte Carlo return $G_{i,t}$ is the sum of many potentially random events, it can fluctuate wildly from one episode to the next. This makes the learning signal very noisy. To overcome this noise, REINFORCE often requires a large number of samples (episodes), making it **sample inefficient**.\n",
        "\n",
        "So, how can we create a more stable and reliable learning signal?"
      ]
    },
    {
      "cell_type": "markdown",
      "metadata": {
        "id": "3lZQd-27AG4o"
      },
      "source": [
        "### Actor-Critic methods\n",
        "---\n",
        "\n",
        "The key idea is to change our perspective. Instead of judging an action by its raw return $G_t$, we ask a better question:\n",
        "\n",
        "> How much better or worse was this return than what we *expected* to get from this state?\n",
        "\n",
        "To answer this, we need to formalize the idea of \"what we expected to get\". This is precisely the job of the **state-value function**, denoted as $V(s)$. The value function $V^\\pi(s)$ answers the question: \"Starting from state $s$, what is the average total return I can expect to get if I follow my current policy $\\pi$ from this point forward?\"\n",
        "\n",
        "Mathematically, it's defined as the **expected return, given the starting state**:\n",
        "$$\n",
        "V^\\pi(s) = \\mathbb{E}_{\\pi}[G_t | S_t = s]\n",
        "$$\n",
        "In short, $V(s)$ is a measure of how \"good\" a state is. A state with a high value is promising because we expect to accumulate a lot of future reward from there.\n",
        "\n",
        "With this concept, we have the perfect **baseline** for our calculation. We can compare the *actual* return $G_t$ we got with the *expected* return $V(s_t)$. This difference is called the **Advantage**.\n",
        "\n",
        "$$\n",
        "A(s_t, a_t) \\approx G_t - V(s_t)\n",
        "$$\n",
        "\n",
        "The Advantage $A(s_t, a_t)$ tells us how much better taking action $a_t$ was compared to the average action from state $s_t$.\n",
        "*   If $A(s_t, a_t) > 0$, the action led to a better-than-expected outcome.\n",
        "*   If $A(s_t, a_t) < 0$, the action led to a worse-than-expected outcome.\n",
        "\n",
        "\n",
        "This signal is much less noisy. A return of `+10` might be fantastic in a state where you expect `0` (Advantage = +10), but poor in a state where you expect `+20` (Advantage = -10). The Advantage centers the learning signal around zero, dramatically reducing variance and stabilizing training.\n",
        "\n",
        "This leads us to **Actor-Critic** methods:\n",
        "-   The **Actor** is the policy ($\\pi_\\theta$), which decides which action to take. It learns using the Advantage.\n",
        "-   The **Critic** is the value function ($V_\\phi$), which estimates the value of each state. Its job is to provide the baseline for the Actor's Advantage calculation.\n",
        "\n",
        "Both the Actor and the Critic are neural networks with parameters $\\theta$ and $\\phi$, respectively, that we train simultaneously.\n",
        "\n",
        "To train them, we combine their objectives into a single loss function:\n",
        "\n",
        "1.  **Actor Loss ($L_{actor}$)**: This is the policy gradient loss, but using the Advantage instead of $G_t$. We want to maximize the log-probability of actions, scaled by their advantage. (Note: the negative sign is for gradient descent).\n",
        "\n",
        "    $$L_{actor} = - \\mathbb{E}[A(s_t, a_t) \\cdot \\log \\pi_\\theta(a_t|s_t)]$$\n",
        "\n",
        "2.  **Critic Loss ($L_{critic}$)**: The Critic's job is to make its value estimate $V_\\phi(s_t)$ as close as possible to the observed return $G_t$. This is a standard regression problem, so we use the Mean Squared Error.\n",
        "\n",
        "    $$L_{critic} = \\mathbb{E}[(G_t - V_\\phi(s_t))^2]$$\n",
        "\n",
        "The total loss we minimize is a weighted sum of the two."
      ]
    },
    {
      "cell_type": "markdown",
      "metadata": {
        "id": "pSZ99dRbAuKi"
      },
      "source": [
        "### The Actor-Critic Policy\n",
        "---\n",
        "\n",
        "Our policy network now needs to produce 2 outputs from a single state:\n",
        "1.  A probability distribution over actions (for the Actor).\n",
        "2.  A single value estimating the quality of the state (for the Critic).\n",
        "\n",
        "A common and effective architecture is to use a shared \"body\" network that processes the observation, followed by two separate \"heads\" for the policy and value outputs. This allows the network to learn a common representation of the state that is useful for both tasks."
      ]
    },
    {
      "cell_type": "markdown",
      "metadata": {
        "id": "COeQLfaANZ0N"
      },
      "source": [
        "#### ✏️ **Exercise: Implement an Actor-Critic NN Policy**\n",
        "\n",
        "Complete the architecture of the `NN_Policy_Value` class below. Since we are using `CartPole-v1`, the observation is a 4-dimensional vector representing (cart position, cart velocity, pole angle, and pole angular velocity)."
      ]
    },
    {
      "cell_type": "markdown",
      "metadata": {
        "id": "_y7-4KKMPnaT"
      },
      "source": [
        "<details>\n",
        "<summary>💡 Hints</summary>\n",
        "\n",
        "*   The shared body can be an `nn.Sequential` that contains an `nn.Linear(input_dim, hidden_size)` layer followed by an `nn.ReLU()`.\n",
        "\n",
        "*   The policy head (the actor) is a separate `nn.Linear` layer that maps the `hidden_size` features to `num_actions`.\n",
        "\n",
        "*   The value head (the critic) is another `nn.Linear` layer that maps the `hidden_size` features to a single output of size 1.\n",
        "\n",
        "</details>"
      ]
    },
    {
      "cell_type": "code",
      "execution_count": null,
      "metadata": {
        "id": "gClFVeypAxfO"
      },
      "outputs": [],
      "source": [
        "class NN_Policy_Value(nn.Module):\n",
        "    \"\"\"\n",
        "    An actor-critic policy network with a shared body and separate heads.\n",
        "    \"\"\"\n",
        "    def __init__(\n",
        "        self,\n",
        "        input_dim: int,  # this will be `env.observation_space.shape`\n",
        "        num_actions: int,\n",
        "    ):\n",
        "        super().__init__()\n",
        "\n",
        "        ################################################################\n",
        "        # Your solution:\n",
        "        # 1. Define the shared network body.\n",
        "        # self.hidden_body = ...\n",
        "\n",
        "        # 2. Define the policy head for the Actor.\n",
        "        # self.policy_head = ...\n",
        "\n",
        "        # 3. Define the value head for the Critic.\n",
        "        # self.value_head = ...\n",
        "        ################################################################\n",
        "\n",
        "    def forward(self, obs: torch.Tensor) -> tuple[torch.Tensor, torch.Tensor]:\n",
        "        \"\"\"\n",
        "        Performs the forward pass.\n",
        "\n",
        "        Args:\n",
        "            obs: A tensor of state indices.\n",
        "\n",
        "        Returns:\n",
        "            A tuple containing:\n",
        "            - torch.Tensor: Action logits from the policy head.\n",
        "            - torch.Tensor: The state value from the value head.\n",
        "        \"\"\"\n",
        "        # First, one-hot encode the discrete state observation.\n",
        "        if obs.dim() == 0:  # Handle single integer observation.\n",
        "            obs = obs.unsqueeze(0)\n",
        "\n",
        "        # Pass through the shared body.\n",
        "        hidden_features = self.hidden_body(obs)\n",
        "\n",
        "        # Get action logits and state value from the heads.\n",
        "        action_logits = self.policy_head(hidden_features)  # [B, num_actions].\n",
        "        state_value = self.value_head(hidden_features)  # [B, 1].\n",
        "\n",
        "        return action_logits, state_value"
      ]
    },
    {
      "cell_type": "markdown",
      "metadata": {
        "id": "4UMcyG7DAw9N"
      },
      "source": [
        "### The A2C (Advantage Actor-Critic) Agent\n",
        "---\n",
        "\n",
        "Let's build the `A2CAgent` agent.\n",
        "\n",
        "For the policy gradient loss, use the Advantage instead of $G_t$. For learning the state-value function $V_\\phi(s_t)$, we apply a Mean Squared Error to bring it closer to the observed return $G_t$. The total loss we minimize is their (weighted) sum.\n",
        "\n",
        "$$Loss_{A2C} = -\\mathbb{E}[A(s_t, a_t) \\cdot \\log \\pi_\\theta(a_t|s_t)] + \\alpha * \\mathbb{E}[(G_t - V_\\phi(s_t))^2]$$\n",
        "\n",
        "where $\\alpha$ is the weight of the value loss.\n",
        "\n"
      ]
    },
    {
      "cell_type": "markdown",
      "metadata": {
        "id": "txH8SIE8A65d"
      },
      "source": [
        "#### ✏️ **Exercise: Implement the A2C Loss**\n",
        "\n",
        "Complete the `update` method in the `A2CAgent` below.\n"
      ]
    },
    {
      "cell_type": "markdown",
      "metadata": {
        "id": "ZwwZ90gsT30-"
      },
      "source": [
        "<details>\n",
        "<summary>💡 Hints</summary>\n",
        "\n",
        "*   The advantage is the difference between the actual `returns` and the critic's predicted `values`.\n",
        "\n",
        "*   The policy loss is the negative mean of `log_probs` multiplied by the `advantage`. Use `advantage.detach()` to stop gradients from flowing back into the value network from this loss.\n",
        "\n",
        "*  The value loss measures the critic's prediction error. Use `F.mse_loss()` to calculate the mean squared error between the `values` and `returns`.\n",
        "\n",
        "*   The final loss is the `policy_loss` plus the `value_loss` scaled by `self._value_loss_weight`.\n",
        "\n",
        "</details>"
      ]
    },
    {
      "cell_type": "code",
      "execution_count": null,
      "metadata": {
        "id": "rgOY4r2xA7Fq"
      },
      "outputs": [],
      "source": [
        "class A2CAgent(ReinforceAgent):\n",
        "    \"\"\"Implements the Advantage Actor-Critic (A2C) algorithm.\"\"\"\n",
        "\n",
        "    def __init__(self, policy: NN_Policy_Value, gamma: float = 0.99, value_loss_weight: float = 0.5):\n",
        "        super().__init__(policy=policy, gamma=gamma)\n",
        "        self._value_loss_weight = value_loss_weight\n",
        "\n",
        "    def forward(self, obs: torch.Tensor) -> tuple[int, torch.Tensor, torch.Tensor]:\n",
        "        \"\"\"Selects an action, its log-probability, and the state value.\"\"\"\n",
        "        action_logits, value = self.policy(obs)\n",
        "        distribution = Categorical(logits=action_logits)\n",
        "        action = distribution.sample()\n",
        "        log_prob = distribution.log_prob(action)\n",
        "        return action.item(), log_prob, value.squeeze(-1)\n",
        "\n",
        "    def update(self, batch_data: dict, optimizer: torch.optim.Optimizer):\n",
        "        \"\"\"Performs the learning step for a batch of episodes.\"\"\"\n",
        "        # Unpack data for the whole batch, collected by the training loop\n",
        "        log_probs = torch.cat(batch_data['log_probs'])\n",
        "        values = torch.cat(batch_data['values'])\n",
        "        returns = torch.cat(batch_data['returns'])\n",
        "\n",
        "        ################################################################\n",
        "        # Your solution:\n",
        "        # 1. Calculate the advantage.\n",
        "        # advantage = ...\n",
        "\n",
        "        # 2. Calculate the policy loss (actor loss).\n",
        "        # We use .mean() for stability across batch sizes.\n",
        "        # policy_loss = ...\n",
        "\n",
        "        # 3. Calculate the value loss (critic loss).\n",
        "        # value_loss = ...\n",
        "\n",
        "        # 4. Combine the losses.\n",
        "        # loss = ...\n",
        "        ################################################################\n",
        "\n",
        "        optimizer.zero_grad()\n",
        "        loss.backward()\n",
        "        optimizer.step()"
      ]
    },
    {
      "cell_type": "markdown",
      "metadata": {
        "id": "hjm__LqRBC0h"
      },
      "source": [
        "### Improving A2C with Entropy Regularization\n",
        "\n",
        "A common problem in RL is an agent that becomes too confident in a sub-optimal policy too early, failing to explore other, potentially better options. To encourage exploration, we can add an **entropy bonus** to our loss function.\n",
        "\n",
        "**Entropy** is a measure of randomness or uncertainty in a probability distribution. A high-entropy policy is more random (exploratory), while a low-entropy policy is more deterministic (exploitative).\n",
        "\n",
        "By adding the policy's entropy to the objective (or subtracting it from the loss), we encourage the agent to maintain a degree of randomness, preventing it from collapsing into a single, greedy action too soon.\n",
        "\n",
        "$$ \\text{Loss}_{final} = \\text{Loss}_{A2C} - \\beta \\cdot H(\\pi_\\theta(s_t)) $$\n",
        "\n",
        "where `H` is the entropy and `β` is a small coefficient to weigh the entropy bonus."
      ]
    },
    {
      "cell_type": "markdown",
      "metadata": {
        "id": "CxBbr48nBC5h"
      },
      "source": [
        "#### ✏️ **Exercise: Implement the Entropy Bonus**\n",
        "\n",
        "We can implement this by creating a new agent that inherits from `A2CAgent` and overrides the `update` method.\n"
      ]
    },
    {
      "cell_type": "markdown",
      "metadata": {
        "id": "81MJlTTOUWxK"
      },
      "source": [
        "<details>\n",
        "<summary>💡 Hints</summary>\n",
        "\n",
        "*   To calculate entropy for the batch, you first need to get the action distributions for all `states` that were visited. Pass the `states` tensor through `self.policy` to get the logits.\n",
        "\n",
        "*   Create a `Categorical` distribution from the logits. This distribution object has a built-in `.entropy()` method.\n",
        "\n",
        "*   Call `.entropy().mean()` on your distribution to get the average entropy for the batch.\n",
        "\n",
        "*   The final loss is `policy_loss + value_loss - (entropy_weight * entropy)`. We subtract the entropy term because maximizing entropy is equivalent to minimizing negative entropy.\n",
        "\n",
        "</details>"
      ]
    },
    {
      "cell_type": "code",
      "execution_count": null,
      "metadata": {
        "id": "SDF-xXNMBHfH"
      },
      "outputs": [],
      "source": [
        "class A2CEntropyAgent(A2CAgent):\n",
        "    \"\"\"Implements A2C with an entropy bonus for exploration.\"\"\"\n",
        "\n",
        "    def __init__(\n",
        "        self,\n",
        "        policy: NN_Policy_Value,\n",
        "        value_loss_weight: float = 0.5,\n",
        "        entropy_weight: float = 0.01,\n",
        "    ):\n",
        "        super().__init__(policy, value_loss_weight=value_loss_weight)\n",
        "        self._entropy_weight = entropy_weight\n",
        "\n",
        "    def update(self, batch_data: dict, optimizer: torch.optim.Optimizer):\n",
        "        \"\"\"Performs the learning step, adding an entropy bonus.\"\"\"\n",
        "        log_probs = torch.cat(batch_data['log_probs'])\n",
        "        values = torch.cat(batch_data['values'])\n",
        "        returns = torch.cat(batch_data['returns'])\n",
        "        states = torch.cat(batch_data['states'])\n",
        "\n",
        "        advantage = returns - values\n",
        "        policy_loss = -(log_probs * advantage.detach()).mean()\n",
        "        value_loss = F.mse_loss(values, returns)\n",
        "\n",
        "        ################################################################\n",
        "        # Your solution:\n",
        "        # 1. Get the action logits for all visited states to compute entropy.\n",
        "        # logits, _ = ...\n",
        "\n",
        "        # 2. Calculate the entropy bonus.\n",
        "        # entropy_bonus = ...\n",
        "\n",
        "        # 3. Combine the losses, including the entropy bonus.\n",
        "        # loss = ...\n",
        "        ################################################################\n",
        "\n",
        "        optimizer.zero_grad()\n",
        "        loss.backward()\n",
        "        optimizer.step()"
      ]
    },
    {
      "cell_type": "markdown",
      "metadata": {
        "id": "X4YPohpMBDOZ"
      },
      "source": [
        "### Stabilizing with PPO (Proximal Policy Optimization)\n",
        "\n",
        "Even with advantage estimation and entropy bonus, policy gradient methods can be unstable. A single bad update step can drastically change the policy, leading to a performance collapse that is difficult to recover from.\n",
        "\n",
        "**PPO** introduces a simple idea to prevent this: it constrains how much the new policy can differ from the old one at each update. It achieves this by \"clipping\" the objective function.\n",
        "\n",
        "The core idea is to use a ratio:\n",
        "\n",
        "$$w_t(\\theta) = \\pi_\\theta(a_t|s_t) / \\pi_{\\theta_{old}}(a_t|s_t)$$\n",
        "\n",
        "that measures how much the probability of an action has changed.\n",
        "\n",
        "The PPO loss then takes the minimum of the normal objective and a \"clipped\" version:\n",
        "\n",
        "$$ L^{CLIP}(\\theta) = \\mathbb{E}_t \\left[ \\min(w_t(\\theta) \\hat{A}_t, \\text{clip}(w_t(\\theta), 1-\\epsilon, 1+\\epsilon) \\hat{A}_t) \\right] $$\n",
        "\n",
        "This clipping prevents the policy from changing too aggressively, especially when the advantage is large, leading to more stable training.\n",
        "\n",
        "> PPO is still a state-of-the-art algorithm used widely today.\n"
      ]
    },
    {
      "cell_type": "markdown",
      "metadata": {
        "id": "8Zionrh_BQYH"
      },
      "source": [
        "#### ✏️ **Exercise 4: Implement the PPO Loss**\n",
        "\n",
        "We will provide the boilerplate for the PPO update loop, which often involves multiple optimization steps on the same batch of data.\n",
        "\n",
        "Your task is to implement the policy loss."
      ]
    },
    {
      "cell_type": "markdown",
      "metadata": {
        "id": "spzXcZrJUoaJ"
      },
      "source": [
        "<details>\n",
        "<summary>💡 Hints</summary>\n",
        "\n",
        "*   1. The probability ratio `w_t` is calculated in log space for numerical stability. Use `torch.exp(new_log_probs - old_log_probs)`.\n",
        "\n",
        "*   2. For the first surrogate objective (`surr1`), simply multiply the ratio `w_t` by the `advantages`.\n",
        "\n",
        "*   2. For the second surrogate objective (`surr2`), first clip the ratio `w_t` using `torch.clamp()`. The min and max values for the clamp are `1 - self._clip_epsilon` and `1 + self._clip_epsilon`. Then multiply the result by the `advantages`.\n",
        "\n",
        "*   3. The PPO policy loss takes the element-wise minimum of `surr1` and `surr2`. Use `torch.min()` for this, then take the `.mean()`, and remember to negate the final result.\n",
        "\n",
        "*   4. Add the value loss (mean squared error with returns) as before.\n",
        "\n",
        "</details>"
      ]
    },
    {
      "cell_type": "code",
      "execution_count": null,
      "metadata": {
        "id": "ZUjFFVs_BO59"
      },
      "outputs": [],
      "source": [
        "class PPOAgent(A2CEntropyAgent):\n",
        "    \"\"\"Implements the Proximal Policy Optimization (PPO) algorithm.\"\"\"\n",
        "\n",
        "    def __init__(\n",
        "        self,\n",
        "        policy: NN_Policy_Value,\n",
        "        value_loss_weight: float = 0.5,\n",
        "        entropy_weight: float = 0.01,\n",
        "        clip_epsilon: float = 0.2,\n",
        "        n_epochs: int = 4,\n",
        "    ):\n",
        "        super().__init__(\n",
        "            policy=policy,\n",
        "            value_loss_weight=value_loss_weight,\n",
        "            entropy_weight=entropy_weight,\n",
        "        )\n",
        "        self._clip_epsilon = clip_epsilon\n",
        "        self._n_epochs = n_epochs\n",
        "\n",
        "    def update(self, batch_data: dict, optimizer: torch.optim.Optimizer):\n",
        "        \"\"\"Performs the PPO update over multiple epochs.\"\"\"\n",
        "        # PPO uses the collected data multiple times, so we detach it.\n",
        "        old_log_probs = torch.cat(batch_data['log_probs']).detach()\n",
        "        old_values = torch.cat(batch_data['values']).detach()\n",
        "        returns = torch.cat(batch_data['returns']).detach()\n",
        "        states = torch.cat(batch_data['states']).detach()\n",
        "        actions = torch.tensor(sum(batch_data['actions'], [])).detach()\n",
        "\n",
        "        # Calculate advantages once using old values and normalize them.\n",
        "        advantages = returns - old_values\n",
        "        advantages = (advantages - advantages.mean()) / (advantages.std() + 1e-8)\n",
        "\n",
        "        # --- PPO Inner Loop ---\n",
        "        for _ in range(self._n_epochs):\n",
        "            # Get new predictions from the current (updated) policy.\n",
        "            new_logits, new_values = self.policy(states)\n",
        "            new_values = new_values.squeeze(-1)\n",
        "            distribution = Categorical(logits=new_logits)\n",
        "            new_log_probs = distribution.log_prob(actions)\n",
        "\n",
        "            ################################################################\n",
        "            # Your solution:\n",
        "            # 1. Calculate the importance sampling weights.\n",
        "            # w_t = ...\n",
        "\n",
        "            # 2. Calculate the two surrogate objectives.\n",
        "            # surr1 = ...\n",
        "            # surr2 = ...\n",
        "\n",
        "            # 3. Put together the PPO policy loss based on the two surrogates.\n",
        "            # policy_loss = ...\n",
        "\n",
        "            # 4. Value loss.\n",
        "            # value_loss = ...\n",
        "            ################################################################\n",
        "\n",
        "            # Entropy bonus.\n",
        "            entropy_bonus = distribution.entropy().mean()\n",
        "\n",
        "            loss = (\n",
        "                policy_loss\n",
        "                + self._value_loss_weight * value_loss\n",
        "                - self._entropy_weight * entropy_bonus\n",
        "            )\n",
        "\n",
        "            optimizer.zero_grad()\n",
        "            loss.backward()\n",
        "            optimizer.step()"
      ]
    },
    {
      "cell_type": "markdown",
      "metadata": {
        "id": "ZfZz6dUABoeN"
      },
      "source": [
        "Finally, let's adapt our `train_agent` function from Practical 1 to handle the Actor-Critic agents. The main change is handling the \"bootstrapped\" value from the final state if an episode is truncated."
      ]
    },
    {
      "cell_type": "code",
      "execution_count": null,
      "metadata": {
        "id": "3HcfGcNmC-NG"
      },
      "outputs": [],
      "source": [
        "# @title Training loop for Actor-Critic agents.\n",
        "\n",
        "def train_actor_critic_agent(\n",
        "    env: gym.Env,\n",
        "    agent: A2CAgent,\n",
        "    optimizer: torch.optim.Optimizer,\n",
        "    num_updates: int,\n",
        "    episodes_per_batch: int,\n",
        "    max_episode_steps: int,\n",
        "    convergence_threshold: float,\n",
        "    log_frequency: int = 20\n",
        "):\n",
        "    \"\"\"A generic function to train Actor-Critic style agents.\"\"\"\n",
        "    avg_rewards_history = []\n",
        "    print(f\"Starting training for {agent.__class__.__name__}...\")\n",
        "\n",
        "    pbar = tqdm(range(num_updates), mininterval=2)\n",
        "    for i in pbar:\n",
        "        batch_data = {  # this is to hold all data for the batch.\n",
        "            'states': [], 'actions': [], 'rewards': [],\n",
        "            'log_probs': [], 'values': [], 'returns': []\n",
        "        }\n",
        "        batch_total_rewards = []\n",
        "\n",
        "        # --- Data Collection Phase ---\n",
        "        for _ in range(episodes_per_batch):\n",
        "            # Per-episode storage\n",
        "            episode_states, episode_actions, episode_rewards = [], [], []\n",
        "            episode_log_probs, episode_values = [], []\n",
        "            episode_total_reward = 0\n",
        "            state, _ = env.reset()\n",
        "\n",
        "            for step in range(max_episode_steps):\n",
        "                state_tensor = torch.tensor(state)\n",
        "                # Get action, log_prob, and value from the agent.\n",
        "                action, log_prob, value = agent(state_tensor)\n",
        "                next_state, reward, terminated, truncated, _ = env.step(action)\n",
        "                done = terminated or truncated\n",
        "\n",
        "                # Store experience.\n",
        "                episode_states.append(state_tensor)\n",
        "                episode_actions.append(action)\n",
        "                episode_rewards.append(reward)\n",
        "                episode_log_probs.append(log_prob)\n",
        "                episode_values.append(value)\n",
        "                episode_total_reward += reward\n",
        "                state = next_state\n",
        "\n",
        "                if done:\n",
        "                    break\n",
        "\n",
        "            # --- Episode Finish: Calculate Returns and Bootstrap ---\n",
        "            last_value = 0.0\n",
        "            if truncated: # bootstrap if episode was cut short.\n",
        "                with torch.no_grad():\n",
        "                    _, last_value_tensor = agent.policy(torch.tensor(state))\n",
        "                    last_value = last_value_tensor.item()\n",
        "\n",
        "            # Calculate discounted returns for the episode.\n",
        "            returns = []\n",
        "            R = last_value\n",
        "            for r in reversed(episode_rewards):\n",
        "                R = r + agent.gamma * R\n",
        "                returns.insert(0, R)\n",
        "\n",
        "            # Add this episode's data to the batch.\n",
        "            batch_data['states'].append(torch.stack(episode_states))\n",
        "            batch_data['actions'].append(episode_actions)\n",
        "            batch_data['rewards'].append(episode_rewards)\n",
        "            batch_data['log_probs'].append(torch.stack(episode_log_probs))\n",
        "            batch_data['values'].append(torch.stack(episode_values))\n",
        "            batch_data['returns'].append(torch.tensor(returns, dtype=torch.float32))\n",
        "            batch_total_rewards.append(episode_total_reward)\n",
        "\n",
        "        # --- Learning Phase ---\n",
        "        agent.update(batch_data, optimizer)\n",
        "\n",
        "        # --- Logging ---\n",
        "        avg_reward_for_batch = np.mean(batch_total_rewards)\n",
        "        avg_rewards_history.append(avg_reward_for_batch)\n",
        "        pbar.set_postfix(avg_reward=f\"{avg_reward_for_batch:.2f}\")\n",
        "\n",
        "        # Check for convergence.\n",
        "        if avg_reward_for_batch > convergence_threshold:\n",
        "            print(f\"\\nSolved at update {i}!\")\n",
        "            break\n",
        "\n",
        "    return avg_rewards_history"
      ]
    },
    {
      "cell_type": "code",
      "execution_count": null,
      "metadata": {
        "id": "vVqwm2GCBo16"
      },
      "outputs": [],
      "source": [
        "# --- Hyperparameters ---\n",
        "LEARNING_RATE = 0.01\n",
        "NUM_UPDATES = 1000\n",
        "EPISODES_PER_BATCH = 10\n",
        "MAX_EPISODE_STEPS = 500\n",
        "\n",
        "VALUE_WEIGHT_LOSS = 0.5  # for A2C\n",
        "ENTROPY_WEIGHT = 0.01  # for A2C with regularization\n",
        "CLIP_EPSILON = 0.2  # for PPO only\n",
        "N_EPOCHS = 4  # for PPO only\n",
        "\n",
        "# --- Agent Selection ---\n",
        "agent_to_train = \"A2CEntropy\" # @param [\"A2C\", \"A2CEntropy\", \"PPO\"]\n",
        "\n",
        "# --- Initialization ---\n",
        "# We use the same policy network for all agents\n",
        "policy = NN_Policy_Value(input_dim=input_dim, num_actions=num_actions)\n",
        "\n",
        "if agent_to_train == \"A2C\":\n",
        "    agent = A2CAgent(\n",
        "        policy=policy,\n",
        "        value_loss_weight=VALUE_WEIGHT_LOSS,\n",
        "    )\n",
        "elif agent_to_train == \"A2CEntropy\":\n",
        "    agent = A2CEntropyAgent(\n",
        "        policy=policy,\n",
        "        value_loss_weight=VALUE_WEIGHT_LOSS,\n",
        "        entropy_weight=ENTROPY_WEIGHT,\n",
        "    )\n",
        "elif agent_to_train == \"PPO\":\n",
        "    agent = PPOAgent(\n",
        "        policy=policy,\n",
        "        value_loss_weight=VALUE_WEIGHT_LOSS,\n",
        "        entropy_weight=ENTROPY_WEIGHT,\n",
        "        clip_epsilon=CLIP_EPSILON,\n",
        "        n_epochs=N_EPOCHS,\n",
        "    )\n",
        "else:\n",
        "    raise ValueError(f'Unknown agent {agent_to_train}.')\n",
        "\n",
        "optimizer = optim.Adam(policy.parameters(), lr=LEARNING_RATE)\n",
        "\n",
        "# --- Run Training ---\n",
        "\n",
        "avg_rewards = train_actor_critic_agent(\n",
        "    env=env,\n",
        "    agent=agent,\n",
        "    optimizer=optimizer,\n",
        "    num_updates=NUM_UPDATES,\n",
        "    episodes_per_batch=EPISODES_PER_BATCH,\n",
        "    max_episode_steps=MAX_EPISODE_STEPS,\n",
        "    convergence_threshold=500,\n",
        "    log_frequency=50\n",
        ")"
      ]
    },
    {
      "cell_type": "code",
      "execution_count": null,
      "metadata": {
        "cellView": "form",
        "id": "xZ50eqBpDPFE"
      },
      "outputs": [],
      "source": [
        "#@title Plotting Episodic Rewards\n",
        "\n",
        "plt.figure(figsize=(8, 4))\n",
        "plt.plot(avg_rewards)\n",
        "plt.title(f\"Learning curve for {agent.__class__.__name__}\")\n",
        "plt.xlabel(\"Update Batch\")\n",
        "plt.ylabel(\"Average Reward per Batch\")\n",
        "plt.grid(True)\n",
        "# Add a line for the optimal score.\n",
        "plt.axhline(y=-13, color='r', linestyle='--', label='Optimal Score (-13)')\n",
        "plt.legend()\n",
        "plt.show()"
      ]
    },
    {
      "cell_type": "code",
      "execution_count": null,
      "metadata": {
        "cellView": "form",
        "id": "wzuVCfvSByb-"
      },
      "outputs": [],
      "source": [
        "#@title Visualize the trained Agent.\n",
        "\n",
        "# We re-use the visualise_policy function from Practical 1.\n",
        "visualise_policy(\n",
        "    env_id='CartPole-v1',\n",
        "    policy=agent.policy,\n",
        "    max_episode_steps=500,\n",
        ")"
      ]
    },
    {
      "cell_type": "markdown",
      "metadata": {
        "id": "p1Ib-p99o7uw"
      },
      "source": [
        "# 🛠️ Practical 3: Fine-tuning a language model"
      ]
    },
    {
      "cell_type": "markdown",
      "metadata": {
        "id": "z9dOWDuI8PFu"
      },
      "source": [
        "We have journeyed from simple tabular policies to neural networks solving classic control problems. Now, we'll scale up dramatically to one of the most exciting applications of RL today: fine-tuning Large Language Models (LLMs).\n",
        "\n",
        "You've likely heard of models like ChatGPT, Claude, Gemini and Llama. A key reason for their success is a process called **Reinforcement Learning from Human Feedback (RLHF)**."
      ]
    },
    {
      "cell_type": "markdown",
      "metadata": {
        "id": "GPRnYMARDyID"
      },
      "source": [
        "#### Mapping RL Concepts to LLMs\n",
        "\n",
        "Let's connect this back to what we've learned. How do our RL concepts apply here?\n",
        "\n",
        "-   🧠 **Policy**: The LLM (GPT-2) is our policy. Its parameters are the weights of the neural network.\n",
        "-   ✍️ **Action**: The \"action\" is the generation of the next token from the entire vocabulary. A full response is a sequence of actions.\n",
        "-   📄 **State**: The \"state\" is the sequence of tokens generated so far. It starts with the input prompt and grows with each token the policy generates.\n",
        "-   👍 **Reward**: The score given to the final, complete response by our reward model (the sentiment classifier).\n"
      ]
    },
    {
      "cell_type": "markdown",
      "metadata": {
        "id": "X5L4fQ0E8Rx5"
      },
      "source": [
        "#### Why do we need RL for LLMs?\n",
        "\n",
        "Standard LLMs are trained to predict the next word in a massive dataset of text from the internet. This makes them excellent at mimicking human language, but it doesn't guarantee they are helpful, harmless, or follow instructions well. This is known as the **alignment problem**.\n",
        "\n",
        "RLHF is a technique to \"steer\" an already pre-trained LLM towards desired behaviors (like being more helpful, positive, or concise).\n",
        "\n",
        "The full RLHF process has three main steps:\n",
        "1.  **Pre-training an LLM**: This is the standard language modeling step (already done for us).\n",
        "2.  **Training a Reward Model (RM)**: A separate model is trained to predict which of two responses a human would prefer. This RM learns to score text based on human values.\n",
        "3.  **Fine-tuning with RL**: The pre-trained LLM (the policy) is then fine-tuned using RL. It generates text, the Reward Model scores it, and an RL algorithm (like PPO) updates the LLM's weights to maximize the reward.\n",
        "\n",
        "For this tutorial, we will implement a simplified version of this pipeline called **Reinforcement Learning from Classifier Feedback**. Instead of training our own reward model on human preferences, we will use a pre-trained sentiment **classifier** as our reward model. Our goal: to tune GPT-2 to generate more positive movie reviews."
      ]
    },
    {
      "cell_type": "markdown",
      "metadata": {
        "id": "RZoUIhmTDyOF"
      },
      "source": [
        "#### From REINFORCE to PPO\n",
        "\n",
        "For a complex task like language generation, the high variance of the REINFORCE algorithm can make training unstable. We'll use a more advanced and robust algorithm from the same policy gradient family: **Proximal Policy Optimization (PPO)**.\n",
        "\n",
        "> **Intuition for PPO**: You can think of PPO as a smarter, more stable version of REINFORCE. It also updates the policy based on rewards, but it constrains how much the policy can change in each update step (compared to the previous policy), preventing it from straying too far from what it already knows. This leads to much smoother training.\n",
        "\n",
        "We will use the [trl](https://github.com/huggingface/trl) library from Hugging Face, which handles the complexity of PPO for us."
      ]
    },
    {
      "cell_type": "markdown",
      "metadata": {
        "id": "7eugoLm7ZrZQ"
      },
      "source": [
        "## GPT2 for positive reviews\n",
        "\n",
        "Let's fine-tune a pre-trained GPT-2 to generate positive continuations for movie review prompts. We'll use:\n",
        "*   **Policy**: A GPT-2 model fine-tuned on the IMDB dataset, called [lvwerra/gpt2-imdb](https://huggingface.co/lvwerra/gpt2-imdb) with 124M parameters.\n",
        "*   **Reward Model**: A DistilBERT model pre-trained on the sentiment analysis task: it has been trained to predict whether the text is positive or negative -- this has 66M parameters.\n",
        "\n",
        "**N.B.** This section is based on (now deprecated) [Tune GPT2 to generate positive reviews](https://huggingface.co/docs/trl/v0.1.1/en/sentiment_tuning)."
      ]
    },
    {
      "cell_type": "code",
      "execution_count": null,
      "metadata": {
        "id": "q9hGVFmwiJ-4"
      },
      "outputs": [],
      "source": [
        "# Set up the device and a separate device for the reward pipeline.\n",
        "device = torch.device(\"cuda\" if torch.cuda.is_available() else \"cpu\")\n",
        "pipe_device = 0 if torch.cuda.is_available() else -1"
      ]
    },
    {
      "cell_type": "markdown",
      "metadata": {
        "id": "extI12wSDJyC"
      },
      "source": [
        "#### Configuration\n",
        "\n",
        "First, let's set up our environment and all the hyperparameters for our experiment:\n",
        "-  `config` for fine-tuning the pretrained LLM model using PPO\n",
        "- `sent_kwargs` for the reward (sentiment analysis) model\n",
        "- `gen_kwargs` for generating data with the LLM, which can be considered as gathering the trajectories by sampling actions from the agent's policy."
      ]
    },
    {
      "cell_type": "code",
      "execution_count": null,
      "metadata": {
        "id": "ZXOK8KGmDqFT"
      },
      "outputs": [],
      "source": [
        "# PPO Configuration.\n",
        "config = {\n",
        "    \"model_name\": \"lvwerra/gpt2-imdb\",\n",
        "    \"steps\": 20000,\n",
        "    \"batch_size\": 256,\n",
        "    \"txt_in_min_len\": 2,\n",
        "    \"txt_in_max_len\": 8,\n",
        "    \"txt_out_min_len\": 4,\n",
        "    \"txt_out_max_len\": 16,\n",
        "    \"lr\": 1.41e-5,\n",
        "    \"init_kl_coef\": 0.2,\n",
        "    \"target\": 6,\n",
        "}\n",
        "\n",
        "# Generation settings for the LLM.\n",
        "gen_kwargs = {\n",
        "    \"min_length\":-1,\n",
        "    \"top_k\": 0.0,\n",
        "    \"top_p\": 1.0,\n",
        "    \"do_sample\": True,\n",
        "    \"pad_token_id\": None,\n",
        "}\n",
        "\n",
        "# Reward model settings.\n",
        "sent_kwargs = {\n",
        "    \"top_k\": None,\n",
        "    \"function_to_apply\": \"none\",\n",
        "    \"batch_size\": 16,\n",
        "}"
      ]
    },
    {
      "cell_type": "markdown",
      "metadata": {
        "id": "_0nXBSEpMLYh"
      },
      "source": [
        "#### Load data\n",
        "\n",
        "We'll load the IMDB dataset, which contains movie reviews. These reviews will serve as the initial \"state\" or \"prompt\" for our GPT-2 model."
      ]
    },
    {
      "cell_type": "code",
      "execution_count": null,
      "metadata": {
        "id": "0gSEOQsWDows",
        "outputId": "088f6b8a-0783-4de8-a5c9-a7a88b8f9524",
        "colab": {
          "base_uri": "https://localhost:8080/",
          "height": 435,
          "referenced_widgets": [
            "f4473c27803e463aaa0080aa76c837ed",
            "00f716cc3e044bba80825d1e0b39f10c",
            "70ef2469a35a498a857992ce8e1d105e",
            "3209ae21e15840809ff81c03c882340a",
            "bfdc8ff7bd224489adf96bc9647f4579",
            "85dee99f25b04f198ae1392fa817d84b",
            "ad7cea2862814f8aad1e5de06947b824",
            "e4c7ad365d50497a9a94cd122eb13e3c",
            "d1c3df2292524f0eb16b2ddda6cb9372",
            "1e510f8d3804408182d069ac5bbdb8c1",
            "e2b0c4b9bfad44328c2af065fcc4715d",
            "1c43941eee4a46e0985aea94ada8756b",
            "8564a52f28844451b3b87cc426b33ac6",
            "57b478fa102842fb82a77aa2f152a3ec",
            "25828563419049a883dfaf46e29dc00f",
            "213c630bd17946888f34f69e67df89da",
            "913e22d6dd104ddb8a51dc0602b8e29c",
            "cba3f02e4b6c4a5a98a0d01b33ee015a",
            "3592f05fd3e3435596555decc3530658",
            "072dfa58a85547018b6402382ca7edfa",
            "c77a604008c5494a9e073ccaf7267753",
            "250394c1405540d8a4364365702cd752",
            "ad57a5ca8d0d4c5b87285059c3e22329",
            "6c045c6f6ee84a77a0e03585224aa76f",
            "0b7f605c03b24ae79578e1aff93965b9",
            "fa412072051249489446c8516817418f",
            "724f5656ecf94b3f8571f4f9724c04a3",
            "5f996dd97a174ffb9e76fb87b764339b",
            "ca6a586769db4f849e021597f30421f9",
            "1c3e036a3199402fb9a9ac0eb0b25ff8",
            "63619c756d9348e18021112ec3b168ae",
            "98f50e6559d64d12966efb96c4104664",
            "a1ab5e4f6fbb48f5abe1888e7a6e49aa",
            "970b74d4401e4ce9821982c62774e113",
            "13b15fbe4b0148d3aad4387b5046e70d",
            "b2c45c16bcfa46d1ad916e4ae9a21775",
            "ac021f3cf4674511b109586e65c2ab28",
            "c6ed41cd90c54ef5b830ac9f2f5426e5",
            "04defb22f65c4a5c805aa74666cbcce3",
            "2e6e0a7b42bd41fd912db19011acae22",
            "d34f975efc5e40d4997115fd48bb24a3",
            "02dc05ff76c94e40bc5807beb07517e7",
            "dac5dfee8f774073b2f0b8e7b0260aef",
            "bfef18899ba24aac993549b047f781f5",
            "7e3cc9f1d11445a3836cc343701b2b2b",
            "073881e1eda942aba474ee43b0418c68",
            "9142abb039b24c8f935b24fcd908aa21",
            "a138fa47ae4d45129171772c72de824f",
            "2a93876e56704972ae754596ad1d20dd",
            "675987fcf833461e8d2cb872ba30e3a0",
            "bf9241510df0490a8e5258996e8a91fb",
            "4e65bc42e4a546518f028ab370b96973",
            "d7f59f3d860a40b593d6729c6f1ed326",
            "e13416a2c86a46fcbfc4f1ca9c6212b5",
            "2546ddd2ab874793bb15edf302da30c1",
            "ee3870e9afc6444f9b3da9e8d10fc4d6",
            "b93bddf28224400b9330e0ffed35058d",
            "06c0d50065ae4fb58e741768c95474b0",
            "36fc0220026b40b680c15f3f168e3be1",
            "6619f9b1de4449b18d0cf0c7c8f808d2",
            "2ccc81b13df84497a7538b8449638175",
            "2ef4ff5d07c449c18a6dcafb842be775",
            "9f24f79fbeec465fb273430c06c28dce",
            "01f49046354047498e0cec4e972cbf1d",
            "e9a995012f5941d0b5c75f239b93d58c",
            "22f7f034608b4f6eb3bc70479a326565",
            "376b490d32864341abe9587c2a6f2d54",
            "43a3ac1e3ea44d9a80fac777d5fd13d3",
            "f32c8f7d45f649f4a7dffeea8c70c9f4",
            "6bdab698fa5048d79ac0949ed3250c67",
            "5a1001ecdb064d22871c8766a9e5f03e",
            "a8211fa607774cfb9f93e8d41e1241c5",
            "8b2229b02ef8453f8290d12e87e403ef",
            "9ad5c67b79054874864d60bc029852ca",
            "2f8dda7eb3ac45c3b892ac0d76c2cdeb",
            "e679b762093e4c51b8db3c330019f547",
            "52777eb32241411a86d69748b3e03b8e",
            "c0ddf7a2368748efa3e232c3dcd02b74",
            "a70a70a542f54f78809fe47ff802da4f",
            "d5589dbdc1a049ba807dcefd4de124fc",
            "c488b69b93114a26912ef825ab891ee2",
            "a4d8931c012242e9b04f184fc758c301",
            "3c4d133874b6429290d75d29800e052f",
            "310b1d418d0748418baa7db0fa6233b3",
            "78d956f468054d12b069653df339e664",
            "8af36e92b0fc4731b618fbc7569c90d6",
            "0827245997ed4a399cdff887d816a539",
            "09d891e124314e91bb545c641835db4e",
            "0416c091331a429785882217b1ad3e8c",
            "906310ff8df24092b1e22d4c6e7c4914",
            "fb2c78bdafa64b18a7ccda4367c9a7e4",
            "163c1600836243558e602e46ab191d6b",
            "b8888eb64ba345cbb0c7abf4eb8939df",
            "5b7f550a54f64ab6820ff8f139faf21e",
            "ad826f40046f47ef88de2334b172ee81",
            "346be696f65648e2aa6433e5abf64310",
            "5ca234a8df004e2da7538a6d0ad7addf",
            "141070f16521423ca28f776a3d6e67bd",
            "a293bcb6291e4112aae0ff5f14483473",
            "08fd2797935142b899dfb5571cf7f6c8",
            "260af909b0a24133b8b1ff040427e23c",
            "d0700b8630d845b984782f45fc13df88",
            "21ddeacf95e24557a52b5053bf934f02",
            "7dfe767c52354e3fbce3dc99ed4a269a",
            "f8b32d9858474110a4ba66d1b4d74482",
            "c11b5d296ef54b0cbd6ef7d2353027e4",
            "a1672475383144ff9edb1968be75810b",
            "17af628741c44c5281038d49ac993fc9",
            "7364d920a34a4d4784d0259eede3ada6",
            "925b9b78b67a4fcf8fdb6a6623e06d97"
          ]
        }
      },
      "outputs": [
        {
          "output_type": "stream",
          "name": "stderr",
          "text": [
            "/usr/local/lib/python3.11/dist-packages/huggingface_hub/utils/_auth.py:94: UserWarning: \n",
            "The secret `HF_TOKEN` does not exist in your Colab secrets.\n",
            "To authenticate with the Hugging Face Hub, create a token in your settings tab (https://huggingface.co/settings/tokens), set it as secret in your Google Colab and restart your session.\n",
            "You will be able to reuse this secret in all of your notebooks.\n",
            "Please note that authentication is recommended but still optional to access public models or datasets.\n",
            "  warnings.warn(\n"
          ]
        },
        {
          "output_type": "display_data",
          "data": {
            "text/plain": [
              "Downloading readme: 0.00B [00:00, ?B/s]"
            ],
            "application/vnd.jupyter.widget-view+json": {
              "version_major": 2,
              "version_minor": 0,
              "model_id": "f4473c27803e463aaa0080aa76c837ed"
            }
          },
          "metadata": {}
        },
        {
          "output_type": "display_data",
          "data": {
            "text/plain": [
              "Downloading data files:   0%|          | 0/3 [00:00<?, ?it/s]"
            ],
            "application/vnd.jupyter.widget-view+json": {
              "version_major": 2,
              "version_minor": 0,
              "model_id": "1c43941eee4a46e0985aea94ada8756b"
            }
          },
          "metadata": {}
        },
        {
          "output_type": "display_data",
          "data": {
            "text/plain": [
              "Downloading data:   0%|          | 0.00/20.5M [00:00<?, ?B/s]"
            ],
            "application/vnd.jupyter.widget-view+json": {
              "version_major": 2,
              "version_minor": 0,
              "model_id": "ad57a5ca8d0d4c5b87285059c3e22329"
            }
          },
          "metadata": {}
        },
        {
          "output_type": "display_data",
          "data": {
            "text/plain": [
              "Downloading data:   0%|          | 0.00/21.0M [00:00<?, ?B/s]"
            ],
            "application/vnd.jupyter.widget-view+json": {
              "version_major": 2,
              "version_minor": 0,
              "model_id": "970b74d4401e4ce9821982c62774e113"
            }
          },
          "metadata": {}
        },
        {
          "output_type": "display_data",
          "data": {
            "text/plain": [
              "Downloading data:   0%|          | 0.00/42.0M [00:00<?, ?B/s]"
            ],
            "application/vnd.jupyter.widget-view+json": {
              "version_major": 2,
              "version_minor": 0,
              "model_id": "7e3cc9f1d11445a3836cc343701b2b2b"
            }
          },
          "metadata": {}
        },
        {
          "output_type": "display_data",
          "data": {
            "text/plain": [
              "Extracting data files:   0%|          | 0/3 [00:00<?, ?it/s]"
            ],
            "application/vnd.jupyter.widget-view+json": {
              "version_major": 2,
              "version_minor": 0,
              "model_id": "ee3870e9afc6444f9b3da9e8d10fc4d6"
            }
          },
          "metadata": {}
        },
        {
          "output_type": "display_data",
          "data": {
            "text/plain": [
              "Generating test split:   0%|          | 0/25000 [00:00<?, ? examples/s]"
            ],
            "application/vnd.jupyter.widget-view+json": {
              "version_major": 2,
              "version_minor": 0,
              "model_id": "376b490d32864341abe9587c2a6f2d54"
            }
          },
          "metadata": {}
        },
        {
          "output_type": "display_data",
          "data": {
            "text/plain": [
              "Generating train split:   0%|          | 0/25000 [00:00<?, ? examples/s]"
            ],
            "application/vnd.jupyter.widget-view+json": {
              "version_major": 2,
              "version_minor": 0,
              "model_id": "c0ddf7a2368748efa3e232c3dcd02b74"
            }
          },
          "metadata": {}
        },
        {
          "output_type": "display_data",
          "data": {
            "text/plain": [
              "Generating unsupervised split:   0%|          | 0/50000 [00:00<?, ? examples/s]"
            ],
            "application/vnd.jupyter.widget-view+json": {
              "version_major": 2,
              "version_minor": 0,
              "model_id": "0416c091331a429785882217b1ad3e8c"
            }
          },
          "metadata": {}
        },
        {
          "output_type": "display_data",
          "data": {
            "text/plain": [
              "Filter:   0%|          | 0/25000 [00:00<?, ? examples/s]"
            ],
            "application/vnd.jupyter.widget-view+json": {
              "version_major": 2,
              "version_minor": 0,
              "model_id": "08fd2797935142b899dfb5571cf7f6c8"
            }
          },
          "metadata": {}
        }
      ],
      "source": [
        "ds = load_dataset('imdb', split='train')\n",
        "ds = ds.rename_columns({'text': 'review', 'label': 'sentiment'})\n",
        "# Filter out very short reviews.\n",
        "ds = ds.filter(lambda x: len(x[\"review\"]) > 200, batched=False)"
      ]
    },
    {
      "cell_type": "markdown",
      "metadata": {
        "id": "dAXiw9Dicwjj"
      },
      "source": [
        "#### Load the reward model.\n",
        "\n",
        "Next, we'll load our reward model (the sentiment classifier). This pipeline will take a piece of text and return a score for \"positive\" and \"negative\" sentiment. We'll use the \"positive\" score as our reward signal."
      ]
    },
    {
      "cell_type": "code",
      "execution_count": null,
      "metadata": {
        "id": "59J0FFe_c2Mz",
        "outputId": "91104b9f-6f2d-4896-bdf3-02a4e8baea30",
        "colab": {
          "base_uri": "https://localhost:8080/",
          "height": 257,
          "referenced_widgets": [
            "a18d1ec1a51d457391eb33a6399aa5c2",
            "8e907efaf5fb4dd39f746eea4da71a51",
            "87efd0ac27474da58c64688b235eeba6",
            "6055cee980c64922a3fb47580d4c9fb0",
            "1d446e45a2e446268e679b73206f8df3",
            "103187b04a844e7198b8d9320bafb349",
            "1ad29cd81c3b4e82b5995429a0550eca",
            "2bb0349b71924203a0da051e6f2efcd0",
            "e1bb78f342ed441aab5a45423d6e7475",
            "bd8813a3c213446b8c55adb5e2df747e",
            "44b6390f8fcb4a3ca3cc7cefff5fc052",
            "90e85b15a4a54f88aa7946a06d1214c4",
            "17ed911836744f62898e0987e9c1f4f3",
            "ac084028e8ca439ca071876d28dc60d7",
            "d882f2fd67444702828160a039140a51",
            "27331c30201748c88b97ae15740f9afb",
            "03e466e943a648aea51153e20b05f35a",
            "46c4bef72df24339b655c906d9b90fe1",
            "cb8946b5e8db4f2cacb382d635a0a315",
            "de2d117555ae481ab73a10586a143e07",
            "ee1afdf9fa694276b8f01e87af657b89",
            "553454513062475e81877bfa14690a4f",
            "02a23524a6ad4def8eb77b9c49bd253c",
            "7f2e23033c354eb7aa19b09f500a59fb",
            "0913393550de4d01a323aa6d3bd6f421",
            "265d82ddd9dc434cae2a08df4fe2bcc1",
            "80129786055f4ac1b667f9c98716c015",
            "7d221ca84b1141a1a62e3d0346ccf5c4",
            "db5558e8a2844559b596e6bcfef4846d",
            "a4d0d1c0625249a78f3dcd50f8762440",
            "a88bdb48c36f4d3ea59e598c2fe417e6",
            "b4aeed65890a463ebabab335c16f4b85",
            "75369066920647cc9b74b98398b8bd61",
            "d5c8eff61f3f4900b35fa0902b41cd74",
            "48880cf9562a4d8cab88c2af15bcf708",
            "d8bdbfad329b4cc596036daa5463dc5f",
            "bb3132371f3942e3b3b8abd8af615aed",
            "550790eaf64244feb7d392fc226f3cf7",
            "783fd57d555248169198f0706e6841d4",
            "fa376887098742e7b46312b5034e98fd",
            "40430d9beea643dc836ac9af2a1e53c2",
            "c91d383c71de461b8dab51ca93669e58",
            "b3e79cf86feb45bdbc972a3f4bf53761",
            "3dbba335b72a4db3bb3192f1f61be61f",
            "eee6121323504065b4a41f90bf107035",
            "ad38dd7367a14a46af120c2ba6a8c258",
            "6d3c9f8bd56646f2896f0f7d84957162",
            "2dd507eeca3c467bbe527a01b4cbb935",
            "f5e5a59537a746559de7d87a05c3f1e3",
            "d902397eca184d7186e6957cdc36e887",
            "dd6ce55a2b514f7a89198754e3f461da",
            "33548f49a3b64fff9376005ef619ec26",
            "11854e14af804f7296d93cd827c0ac6f",
            "bf23cc5e645a483289001dcbbffeb40b",
            "efd7307f438544d2918729b9ceeaffbf",
            "6cad13f65426480d90922ee66403717f",
            "246a14faecbc428bb30990a2d089e7a0",
            "04cff02c2af143fd877ad972b8746fca",
            "26acfc48ad9b4e2fbb399fca8dc9866d",
            "5cfe4a4158724dcbb42de01083c12b30",
            "7a22b02628a046b98afe70f5dc4dde7b",
            "744682a4010641efae87df8df892143b",
            "20a3fca46733441ea5a44360111900ac",
            "4d37398b64d0459fb3b8cb7535d3e286",
            "8a17f7a32992490f99c98f4553c0f45e",
            "a15b636fd07545868c8a2c586fca419f",
            "4bb72d8653ee4c09a83796bc80773e76",
            "24fdfb57687141738f5c1d71dbe61ae4",
            "f2a38c7d35184ae8a15b8b0b27ed592d",
            "043f4e70f63d4339bbbcfdf75ef5cf51",
            "5b30182c3ce44f8583fce6552dc26963",
            "881fd0b10c1247f697df1791a248726d",
            "80a5c0bd2b5e4cdabf02aa7156767176",
            "16d757d0ca9e4b1e9a8fe248ba4a9ab9",
            "4205505b709c42a2b8096aff3268fc5f",
            "7038e658d2c3487a818875c42fcaa3a9",
            "4d64eea1d7c8471c872281c42e11bfbc"
          ]
        }
      },
      "outputs": [
        {
          "output_type": "display_data",
          "data": {
            "text/plain": [
              "config.json:   0%|          | 0.00/735 [00:00<?, ?B/s]"
            ],
            "application/vnd.jupyter.widget-view+json": {
              "version_major": 2,
              "version_minor": 0,
              "model_id": "a18d1ec1a51d457391eb33a6399aa5c2"
            }
          },
          "metadata": {}
        },
        {
          "output_type": "display_data",
          "data": {
            "text/plain": [
              "pytorch_model.bin:   0%|          | 0.00/268M [00:00<?, ?B/s]"
            ],
            "application/vnd.jupyter.widget-view+json": {
              "version_major": 2,
              "version_minor": 0,
              "model_id": "90e85b15a4a54f88aa7946a06d1214c4"
            }
          },
          "metadata": {}
        },
        {
          "output_type": "display_data",
          "data": {
            "text/plain": [
              "tokenizer_config.json:   0%|          | 0.00/333 [00:00<?, ?B/s]"
            ],
            "application/vnd.jupyter.widget-view+json": {
              "version_major": 2,
              "version_minor": 0,
              "model_id": "02a23524a6ad4def8eb77b9c49bd253c"
            }
          },
          "metadata": {}
        },
        {
          "output_type": "display_data",
          "data": {
            "text/plain": [
              "vocab.txt: 0.00B [00:00, ?B/s]"
            ],
            "application/vnd.jupyter.widget-view+json": {
              "version_major": 2,
              "version_minor": 0,
              "model_id": "d5c8eff61f3f4900b35fa0902b41cd74"
            }
          },
          "metadata": {}
        },
        {
          "output_type": "display_data",
          "data": {
            "text/plain": [
              "model.safetensors:   0%|          | 0.00/268M [00:00<?, ?B/s]"
            ],
            "application/vnd.jupyter.widget-view+json": {
              "version_major": 2,
              "version_minor": 0,
              "model_id": "eee6121323504065b4a41f90bf107035"
            }
          },
          "metadata": {}
        },
        {
          "output_type": "display_data",
          "data": {
            "text/plain": [
              "tokenizer.json: 0.00B [00:00, ?B/s]"
            ],
            "application/vnd.jupyter.widget-view+json": {
              "version_major": 2,
              "version_minor": 0,
              "model_id": "6cad13f65426480d90922ee66403717f"
            }
          },
          "metadata": {}
        },
        {
          "output_type": "display_data",
          "data": {
            "text/plain": [
              "special_tokens_map.json:   0%|          | 0.00/112 [00:00<?, ?B/s]"
            ],
            "application/vnd.jupyter.widget-view+json": {
              "version_major": 2,
              "version_minor": 0,
              "model_id": "4bb72d8653ee4c09a83796bc80773e76"
            }
          },
          "metadata": {}
        },
        {
          "output_type": "stream",
          "name": "stderr",
          "text": [
            "Device set to use cuda:0\n"
          ]
        }
      ],
      "source": [
        "sentiment_pipe = pipeline(\"sentiment-analysis\",\"lvwerra/distilbert-imdb\", device=pipe_device)"
      ]
    },
    {
      "cell_type": "code",
      "execution_count": null,
      "metadata": {
        "id": "og3GtzJ0BuxX",
        "outputId": "c4810317-9d33-4acf-80c3-ea59d6d3a329",
        "colab": {
          "base_uri": "https://localhost:8080/"
        }
      },
      "outputs": [
        {
          "output_type": "stream",
          "name": "stdout",
          "text": [
            "Text: 'This movie was absolutely fantastic, a must-see!'\n",
            "Reward: 0.0046\n",
            "\n",
            "Text: 'I was so bored I fell asleep in the theater.'\n",
            "Reward: 0.0040\n",
            "\n"
          ]
        }
      ],
      "source": [
        "# Let's test the reward pipeline -- feel free to try out your own examples!\n",
        "\n",
        "example_texts = [\n",
        "    \"This movie was absolutely fantastic, a must-see!\",\n",
        "    \"I was so bored I fell asleep in the theater.\"\n",
        "]\n",
        "\n",
        "rewards = []\n",
        "outputs = sentiment_pipe(example_texts, top_k=None)\n",
        "\n",
        "for output in outputs:\n",
        "    positive_score = output[1]['score']\n",
        "    rewards.append(positive_score)\n",
        "\n",
        "for example_text, reward in zip(example_texts, rewards):\n",
        "  print(f\"Text: '{example_text}'\\nReward: {reward:.4f}\\n\")"
      ]
    },
    {
      "cell_type": "markdown",
      "metadata": {
        "id": "sLwAOPB_NxKi"
      },
      "source": [
        "#### Load policy model\n",
        "\n",
        "Now, we load our policy model (GPT-2). We need 2 copies:\n",
        "\n",
        "*  `gpt2_model`: This is the policy we will actively train and update.\n",
        "*  `gpt2_model_ref`: This is a frozen, non-trainable copy. PPO uses this reference to calculate the KL divergence penalty, ensuring our active policy doesn't stray too far from its original behavior.\n",
        "\n",
        "The `AutoModelForCausalLMWithValueHead` class from `trl` is a special wrapper that adds an extra \"value head\" to the standard GPT-2 model. This value head is trained to predict the expected reward from a given state, which is a key component of PPO's optimization process."
      ]
    },
    {
      "cell_type": "code",
      "execution_count": null,
      "metadata": {
        "id": "Qg7tPLJ9Dv0_",
        "outputId": "c9d464a9-2375-46bc-9789-55f85c118eee",
        "colab": {
          "base_uri": "https://localhost:8080/",
          "height": 241,
          "referenced_widgets": [
            "7837d9b189fe45a78dcb91d59074ff77",
            "972000e2b4334b9e98031056824277b6",
            "0cea951106a847379637268b3d7a6207",
            "fb1eb9f1129043e4b727bfdcac7f5cb6",
            "2758f881871a498b984454715efb37a2",
            "bff84c426d914b638d2d40f2629bb9d6",
            "5774cd04de704717989bcd8c894eb0d3",
            "c617d51630624ddf9feb60e3e247bba1",
            "835f473abb1e4e1d87a5a03747a6a732",
            "af08ad692193401c80e7cd38e726bc91",
            "38876f1fa2c247f296b68a56b5c98db7",
            "01c68e4e6fd2453598b059175c66a8b4",
            "b36eb913a6bf4d2ba48483760c3b4183",
            "76cef5c7ab7f4083a4db7c3824fe2bea",
            "4731aad024e64c79a1a7ea7446166f40",
            "7836947e90544c72acd4e5f66d3e4e89",
            "1e2d6d459769472588143af8d99d7f34",
            "cc2c73382baf434ab26228d631251110",
            "a34064d840e84a66b8835c7030de9115",
            "4033c0e9bd5143fba506248dd61c1328",
            "816229d0f15c41d69d2b9f84fd0639c6",
            "7df2cab23e2a46799d00ff80ae0981f5",
            "4db8b1dd101f4b9ebbbd84295219e2e5",
            "71d138cb12ce48dc941c122d8a9fb9ae",
            "6258e22a8c7c4e1eaab71dff9338caf3",
            "3da8b4fac18e42c0aeec066274ed8503",
            "5ab0bce0af8e4de5897a32900f0399d6",
            "2ff29192bae940a48b07cf247e0dbaf1",
            "b92cff27e17a42139b11fd245368b84b",
            "697cb0abf3144ac79ebeaf2c6681837d",
            "cb7790f44d944e6a93ee3ef5f7e86eb2",
            "4a2239fcc2654bebacae992df0cbecac",
            "4f21858f26014eaab142625c3c0a4337",
            "7aa8b382a87b423fb0a29afeb156839f",
            "26f935f75e704b0bb475cef5b276a8a6",
            "8c1b92f5f4b14092a55bad399449955f",
            "baf9335613524255990dd3b7198a223f",
            "fdc870838e75407cbe053258d20838af",
            "d878e63e6f7c40c59265b54682c66208",
            "28ad1856972b4abdb244140c6fc285fd",
            "cdd569b46f8b42f88d2c5a8b465170ab",
            "05e315546f034c5393b15fa5eaf26189",
            "e68b2db45c4743e090b4532e8ce74d2e",
            "eb035f215af34a5a948ae451e487dca7",
            "7fa87f130b744d8d9ba6d967aa289e72",
            "e96b24cd71c3471ab3f6825618d316fa",
            "ab5fee89868648e6b9a5c9f0aadee909",
            "88842b6e79af44d8968d050d09792b19",
            "1a9799ebe9184a10810228f2713eb1f4",
            "ce8ce5ab40b845219a99dc1fb93115d5",
            "1bf7b83e37524c73b8ce7513d9f0c879",
            "9431f63291ed46b78055bdc93c22fcc6",
            "d98aec55a2194894b8be588470c86b53",
            "10a61aaed05e4594a317c1e3a1713847",
            "7f8d9bb357f74aa198930efb5bea8de1",
            "29137fc8c66d44208ce93bbcd114ecb8",
            "eba9724fbc484780888780469e7b802d",
            "372a961c29f44e569e49996302680f98",
            "7e74ddd37e8b40a4b069d35521fe31b1",
            "ede1d57c3e7e4c839cb904df724f958b",
            "43f399cfe6a242499c268b8399e903a5",
            "fb92a08caa244b4b8ebacd6a090f3a9b",
            "4df556919e25474298bfb5da78734d50",
            "31c76263433d4287b4e0d22190947ed0",
            "e34decfcda444b3e8adb06afc44cb8f3",
            "2d2318b5d0024cd39100fdb12db8f04e",
            "f15f69618d9640499161112f9794eb05",
            "c0134da54cc54ad99cc750aa17bb2aa8",
            "f58ae858e7074b2b949f6fdb45eb44a7",
            "8df99a948a3646bdbd68e44874e04e18",
            "8fc441233a134a0088e1c130cabab779",
            "e4f33445aa7645b3b12f929159144e99",
            "d419397d3219405cb44cf3307d836c73",
            "fe8cad009b5d4e3a918504e59d3b6139",
            "dd2f44f4b38e4fbb80076ad9b7654587",
            "22713fbd088c4f26b8ae71927a5bc18a",
            "d7c1edf703224dee8475ea3b8b577790"
          ]
        }
      },
      "outputs": [
        {
          "output_type": "display_data",
          "data": {
            "text/plain": [
              "config.json:   0%|          | 0.00/577 [00:00<?, ?B/s]"
            ],
            "application/vnd.jupyter.widget-view+json": {
              "version_major": 2,
              "version_minor": 0,
              "model_id": "7837d9b189fe45a78dcb91d59074ff77"
            }
          },
          "metadata": {}
        },
        {
          "output_type": "display_data",
          "data": {
            "text/plain": [
              "pytorch_model.bin:   0%|          | 0.00/548M [00:00<?, ?B/s]"
            ],
            "application/vnd.jupyter.widget-view+json": {
              "version_major": 2,
              "version_minor": 0,
              "model_id": "01c68e4e6fd2453598b059175c66a8b4"
            }
          },
          "metadata": {}
        },
        {
          "output_type": "display_data",
          "data": {
            "text/plain": [
              "model.safetensors:   0%|          | 0.00/548M [00:00<?, ?B/s]"
            ],
            "application/vnd.jupyter.widget-view+json": {
              "version_major": 2,
              "version_minor": 0,
              "model_id": "4db8b1dd101f4b9ebbbd84295219e2e5"
            }
          },
          "metadata": {}
        },
        {
          "output_type": "display_data",
          "data": {
            "text/plain": [
              "tokenizer_config.json:   0%|          | 0.00/17.0 [00:00<?, ?B/s]"
            ],
            "application/vnd.jupyter.widget-view+json": {
              "version_major": 2,
              "version_minor": 0,
              "model_id": "7aa8b382a87b423fb0a29afeb156839f"
            }
          },
          "metadata": {}
        },
        {
          "output_type": "display_data",
          "data": {
            "text/plain": [
              "vocab.json: 0.00B [00:00, ?B/s]"
            ],
            "application/vnd.jupyter.widget-view+json": {
              "version_major": 2,
              "version_minor": 0,
              "model_id": "7fa87f130b744d8d9ba6d967aa289e72"
            }
          },
          "metadata": {}
        },
        {
          "output_type": "display_data",
          "data": {
            "text/plain": [
              "merges.txt: 0.00B [00:00, ?B/s]"
            ],
            "application/vnd.jupyter.widget-view+json": {
              "version_major": 2,
              "version_minor": 0,
              "model_id": "29137fc8c66d44208ce93bbcd114ecb8"
            }
          },
          "metadata": {}
        },
        {
          "output_type": "display_data",
          "data": {
            "text/plain": [
              "special_tokens_map.json:   0%|          | 0.00/90.0 [00:00<?, ?B/s]"
            ],
            "application/vnd.jupyter.widget-view+json": {
              "version_major": 2,
              "version_minor": 0,
              "model_id": "f15f69618d9640499161112f9794eb05"
            }
          },
          "metadata": {}
        }
      ],
      "source": [
        "gpt2_model = AutoModelForCausalLMWithValueHead.from_pretrained(config['model_name'])\n",
        "gpt2_model_ref = AutoModelForCausalLMWithValueHead.from_pretrained(config['model_name'])\n",
        "gpt2_tokenizer = AutoTokenizer.from_pretrained(config['model_name'])\n",
        "\n",
        "# Set the pad token to the end-of-sequence token.\n",
        "gpt2_tokenizer.pad_token = gpt2_tokenizer.eos_token\n",
        "gen_kwargs[\"pad_token_id\"] = gpt2_tokenizer.pad_token_id\n",
        "\n",
        "gpt2_model.to(device);\n",
        "gpt2_model_ref.to(device);"
      ]
    },
    {
      "cell_type": "markdown",
      "metadata": {
        "id": "EIQQb-WSOHmX"
      },
      "source": [
        "#### Pre-process Data and Initialize PPO\n",
        "\n",
        "We need to prepare the data for the `PPOTrainer`. We will tokenize the prompts from our dataset. To make training more robust, we'll use `LengthSampler` to generate prompts and responses of varying lengths."
      ]
    },
    {
      "cell_type": "code",
      "execution_count": null,
      "metadata": {
        "id": "6FVPKuEOD0rP"
      },
      "outputs": [],
      "source": [
        "class LengthSampler:\n",
        "    def __init__(self, min_value, max_value):\n",
        "        self.values = list(range(min_value, max_value))\n",
        "    def __call__(self):\n",
        "        return np.random.choice(self.values)\n",
        "\n",
        "# Sampler for dynamic query and response lengths\n",
        "input_size = LengthSampler(config['txt_in_min_len'], config['txt_in_max_len'])\n",
        "output_size = LengthSampler(config['txt_out_min_len'], config['txt_out_max_len'])"
      ]
    },
    {
      "cell_type": "code",
      "execution_count": null,
      "metadata": {
        "id": "QqNxOkghD1IW",
        "outputId": "6b3fe2a9-fb42-46cc-d462-fc66b352c1fd",
        "colab": {
          "base_uri": "https://localhost:8080/",
          "height": 65,
          "referenced_widgets": [
            "58f784fa43ea4b7697c123a453935504",
            "5f7211c203f5476b895c13cc63b59531",
            "78ec20c6ae3e44a1a51577209997c113",
            "7aadc442c0e2453c95cf5b0e511571c3",
            "dde9eadf4a514db299e0ea52bb5fb97d",
            "f876c9bf7e454b939f634785795aa7d9",
            "684af33bb4fe493a91fe8df32e370eb9",
            "653b5503d17c436e9ef4ffb07c382d0d",
            "7b23b9a1604d4b7d8f5762087bc52bbd",
            "0b7612e1b7f0405e8377c3e3912324c1",
            "54a6c5023b414a7fa7a1d1a5cada9a82"
          ]
        }
      },
      "outputs": [
        {
          "output_type": "display_data",
          "data": {
            "text/plain": [
              "Map:   0%|          | 0/24895 [00:00<?, ? examples/s]"
            ],
            "application/vnd.jupyter.widget-view+json": {
              "version_major": 2,
              "version_minor": 0,
              "model_id": "58f784fa43ea4b7697c123a453935504"
            }
          },
          "metadata": {}
        },
        {
          "output_type": "stream",
          "name": "stderr",
          "text": [
            "Token indices sequence length is longer than the specified maximum sequence length for this model (1168 > 1024). Running this sequence through the model will result in indexing errors\n"
          ]
        }
      ],
      "source": [
        "def tokenize(sample):\n",
        "    sample[\"tokens\"] = gpt2_tokenizer.encode(sample[\"review\"])[:input_size()]\n",
        "    sample[\"query\"] = gpt2_tokenizer.decode(sample[\"tokens\"])\n",
        "    return sample\n",
        "\n",
        "ds = ds.map(tokenize, batched=False)"
      ]
    },
    {
      "cell_type": "code",
      "execution_count": null,
      "metadata": {
        "id": "c3_xeS-5D4x2"
      },
      "outputs": [],
      "source": [
        "def collator(data):\n",
        "    return dict((key, [d[key] for d in data]) for key in data[0])\n",
        "\n",
        "dataloader = torch.utils.data.DataLoader(ds, batch_size=config['batch_size'], collate_fn=collator)"
      ]
    },
    {
      "cell_type": "markdown",
      "metadata": {
        "id": "wmQqBeRkeXjb"
      },
      "source": [
        "Finally, we initialize the `PPOTrainer`. This powerful class from `trl` orchestrates the entire fine-tuning process. We pass it our models, tokenizer, and the PPO configuration we defined earlier."
      ]
    },
    {
      "cell_type": "code",
      "execution_count": null,
      "metadata": {
        "id": "QOJ0OTSUiszn",
        "outputId": "9786030b-7b38-46b4-b8b1-da1f513dc24b",
        "colab": {
          "base_uri": "https://localhost:8080/"
        }
      },
      "outputs": [
        {
          "output_type": "stream",
          "name": "stderr",
          "text": [
            "/usr/local/lib/python3.11/dist-packages/trl/trainer/ppo_config.py:207: FutureWarning: `PPOConfig` is deprecated and will be removed in the future. Please use `PPOv2Config` with `PPOv2Trainer` instead.\n",
            "  warnings.warn(\n",
            "/usr/local/lib/python3.11/dist-packages/trl/trainer/ppo_trainer.py:193: FutureWarning: `PPOTrainer` is deprecated and will be removed in trl v0.12. Please use `PPOv2Trainer` instead.\n",
            "  warnings.warn(\n",
            "/usr/local/lib/python3.11/dist-packages/trl/trainer/ppo_trainer.py:273: UserWarning: No dataset is provided. Make sure to set config.batch_size to the correct value before training.\n",
            "  warnings.warn(\n"
          ]
        }
      ],
      "source": [
        "ppo_config = PPOConfig(batch_size=config['batch_size'], mini_batch_size=16)\n",
        "ppo_trainer = PPOTrainer(ppo_config, gpt2_model, gpt2_model_ref, gpt2_tokenizer)"
      ]
    },
    {
      "cell_type": "markdown",
      "metadata": {
        "id": "fngcgHGwUbky"
      },
      "source": [
        "### The Fine-tuning Loop\n",
        "---\n",
        "\n",
        "The training loop is where the magic happens. For each batch of prompts, we perform a three-step process:\n",
        "1.  **Get Responses**: Use the policy model (`gpt2_model`) to generate completions for the prompts.\n",
        "2.  **Get Rewards**: Use the sentiment classifier (`sentiment_pipe`) to score the completions.\n",
        "3.  **Optimize**: Feed the prompts, responses, and rewards into the `ppo_trainer` to update the policy model's weights."
      ]
    },
    {
      "cell_type": "markdown",
      "metadata": {
        "id": "BzPjmA5CfZf6"
      },
      "source": [
        "#### ✏️ **Exercise: Implement the PPO training step!**\n",
        "\n",
        "Complete the code in the cell below. You'll need to implement the three steps described above."
      ]
    },
    {
      "cell_type": "markdown",
      "metadata": {
        "id": "fMXGvqwoflBo"
      },
      "source": [
        "<details><summary>💡 Hints</summary>\n",
        "\n",
        "1.  **Generate Responses**:\n",
        "    *   The `query_tensors` (the tokenized prompts) are already prepared for you.\n",
        "    *   You need to loop through them and use `gpt2_model.generate()` to create a response for each one.\n",
        "    *   Remember to use a random `output_size()` for each generation and pass the `gen_kwargs`.\n",
        "    *   The generated output from the model includes the prompt, so you'll need to slice it to get only the new tokens (the response). The length of the response is `gen_len`.\n",
        "\n",
        "2.  **Calculate Rewards**:\n",
        "    *   The reward is calculated on the full text (`query + response`). You'll need to create a list of these full texts.\n",
        "    *   Pass this list to the `sentiment_pipe`.\n",
        "    *   The output of the pipeline is a list of dictionaries. For each output, you want the score for the 'POSITIVE' label. In our case, the pipeline returns `[{'label': 'NEGATIVE', 'score': ...}, {'label': 'POSITIVE', 'score': ...}]`, so you'll want `output[1][\"score\"]`.\n",
        "    *   Make sure your final `rewards` are a list of PyTorch tensors.\n",
        "\n",
        "3.  **Perform PPO Step**:\n",
        "    *   The final step is easy! Just call `ppo_trainer.step()` and pass it the `query_tensors`, `response_tensors`, and `rewards` you prepared.\n",
        "\n",
        "</details>"
      ]
    },
    {
      "cell_type": "code",
      "execution_count": null,
      "metadata": {
        "id": "vw8i7RQtD_cC"
      },
      "outputs": [],
      "source": [
        "# Set the number of epochs for fine-tuning.\n",
        "# A few epochs are enough to see a change.\n",
        "MAX_NUM_EPOCHS = 5  # @ param\n",
        "\n",
        "total_ppo_epochs = int(np.ceil(config['steps'] / config['batch_size']))\n",
        "\n",
        "\n",
        "for epoch, batch in tqdm(zip(range(total_ppo_epochs), iter(dataloader))):\n",
        "  ################################################################\n",
        "  # Fine-tune GPT2 using the pre-trained distilbert-imdb as the reward function.\n",
        "  # Your solution:\n",
        "  # Get the query tensors using batch['tokens'].\n",
        "  # query_tensors = ...\n",
        "\n",
        "  # Get response from gpt2\n",
        "  # response_tensors = []\n",
        "  # for i in range(config['batch_size']):\n",
        "  # Use gpt2_model.generate() to get the responses.\n",
        "  # response = ...\n",
        "  # response_tensors.append(...)\n",
        "  # batch['response'] = [gpt2_tokenizer.decode(r.squeeze()) for r in response_tensors]\n",
        "\n",
        "  # Compute sentiment score, concatenating batch['query'] and batch['response']\n",
        "  # to build the input for sentiment_pipe.\n",
        "  # ...\n",
        "  # rewards = ...\n",
        "\n",
        "  # Run PPO step.\n",
        "  # stats = ppo_trainer.step(...)\n",
        "  ################################################################\n",
        "  logs, timing = dict(), dict()\n",
        "  query_tensors = [torch.tensor(t).long().to(device) for t in batch['tokens']]\n",
        "\n",
        "  # Get response from gpt2.\n",
        "  response_tensors = []\n",
        "  for i in range(config['batch_size']):\n",
        "    gen_len = output_size()\n",
        "    ################################################################\n",
        "    # response = ...\n",
        "    ################################################################\n",
        "    response_tensors.append(response.squeeze()[-gen_len:])\n",
        "  batch['response'] = [\n",
        "      gpt2_tokenizer.decode(r.squeeze()) for r in response_tensors\n",
        "  ]\n",
        "\n",
        "  # Compute sentiment score.\n",
        "  texts = [q + r for q, r in zip(batch['query'], batch['response'])]\n",
        "  ################################################################\n",
        "  # pipe_outputs = ...\n",
        "  ################################################################\n",
        "  rewards = [\n",
        "      torch.tensor(output[1]['score']).to(device) for output in pipe_outputs\n",
        "  ]\n",
        "\n",
        "  # Run PPO step.\n",
        "  ################################################################\n",
        "  # stats = ...\n",
        "  ################################################################\n",
        "  rewards = torch.tensor(rewards).to(device)\n",
        "\n",
        "  table_rows = [\n",
        "      list(r)\n",
        "      for r in zip(batch['query'], batch['response'], rewards.cpu().tolist())\n",
        "  ]\n",
        "  logs.update(timing)\n",
        "  logs.update(stats)\n",
        "  logs['env/reward_mean'] = torch.mean(rewards).cpu().numpy()\n",
        "  logs['env/reward_std'] = torch.std(rewards).cpu().numpy()\n",
        "  logs['env/reward_dist'] = rewards.cpu().numpy()\n",
        "\n",
        "  if epoch == MAX_NUM_EPOCHS:\n",
        "    break"
      ]
    },
    {
      "cell_type": "markdown",
      "metadata": {
        "id": "3Xccr6OGKioW"
      },
      "source": [
        "#### Evaluate the Results\n",
        "\n",
        "Now, let's see if our fine-tuning worked! We will take a sample of prompts and generate responses from both the original model (`gpt2_model_ref`) and our fine-tuned model (`gpt2_model`). We can then compare them qualitatively by reading them, and quantitatively by checking their average reward scores."
      ]
    },
    {
      "cell_type": "code",
      "execution_count": null,
      "metadata": {
        "id": "jRfVYBpzgS1r"
      },
      "outputs": [],
      "source": [
        "# Get a batch from the dataset.\n",
        "bs = 16  # a batch size\n",
        "game_data = dict()\n",
        "ds.set_format('pandas')\n",
        "df_batch = ds[:].sample(bs)\n",
        "game_data['query'] = df_batch['query'].tolist()\n",
        "query_tensors = df_batch['tokens'].tolist()\n",
        "\n",
        "response_tensors_ref, response_tensors = [], []\n",
        "\n",
        "# Get response from `gpt2` and `gpt2_ref`.\n",
        "for i in range(bs):\n",
        "  gen_len = output_size()\n",
        "  output = gpt2_model_ref.generate(\n",
        "      torch.tensor(query_tensors[i]).unsqueeze(dim=0).to(device),\n",
        "      max_new_tokens=gen_len,\n",
        "      **gen_kwargs,\n",
        "  ).squeeze()[-gen_len:]\n",
        "  response_tensors_ref.append(output)\n",
        "  output = gpt2_model.generate(\n",
        "      torch.tensor(query_tensors[i]).unsqueeze(dim=0).to(device),\n",
        "      max_new_tokens=gen_len,\n",
        "      **gen_kwargs,\n",
        "  ).squeeze()[-gen_len:]\n",
        "  response_tensors.append(output)\n",
        "\n",
        "# Decode responses.\n",
        "game_data['response (before)'] = [\n",
        "    gpt2_tokenizer.decode(response_tensors_ref[i]) for i in range(bs)\n",
        "]\n",
        "game_data['response (after)'] = [\n",
        "    gpt2_tokenizer.decode(response_tensors[i]) for i in range(bs)\n",
        "]\n",
        "\n",
        "# Sentiment analysis of query/response pairs before/after.\n",
        "texts = [\n",
        "    q + r for q, r in zip(game_data['query'], game_data['response (before)'])\n",
        "]\n",
        "game_data['rewards (before)'] = [\n",
        "    output[1]['score'] for output in sentiment_pipe(texts, **sent_kwargs)\n",
        "]\n",
        "\n",
        "texts = [\n",
        "    q + r for q, r in zip(game_data['query'], game_data['response (after)'])\n",
        "]\n",
        "game_data['rewards (after)'] = [\n",
        "    output[1]['score'] for output in sentiment_pipe(texts, **sent_kwargs)\n",
        "]\n",
        "\n",
        "# Store results in a dataframe.\n",
        "df_results = pd.DataFrame(game_data)\n",
        "df_results.head()"
      ]
    },
    {
      "cell_type": "code",
      "source": [
        "print('Mean:')\n",
        "display(df_results[[\"rewards (before)\", \"rewards (after)\"]].mean())\n",
        "print()\n",
        "print('Median:')\n",
        "display(df_results[[\"rewards (before)\", \"rewards (after)\"]].median())"
      ],
      "metadata": {
        "id": "Am5Z-USRSnU_"
      },
      "execution_count": null,
      "outputs": []
    },
    {
      "cell_type": "markdown",
      "metadata": {
        "id": "oEh68OxHPQmO"
      },
      "source": [
        "You should see a noticeable increase in the average reward, even after fine-tuning for just a few epochs! When you look at the generated text, you'll likely see that the \"after\" responses are more consistently positive in tone.\n",
        "\n",
        "This demonstrates the core loop of RLHF: **generate, reward, and optimize**. You've successfully steered an LLM's behavior using a reward signal, bridging the gap from simple RL problems to the cutting edge of AI alignment.\n",
        "\n",
        "Feel free to experiment with different reward functions or different LLMs! 😀"
      ]
    },
    {
      "cell_type": "markdown",
      "metadata": {
        "id": "HhqhahWgFVRs"
      },
      "source": [
        "## Beyond Classifiers: A Spectrum of Feedback\n",
        "\n",
        "In our practical exercise, we used a pre-trained sentiment classifier to provide a reward signal. This is an example of machine feedback, but it's just one point on a wide spectrum of methods used to score LLM responses.\n",
        "\n",
        "### **🧑‍⚖️ RLHF: Human Feedback**\n",
        "\n",
        "This is the \"gold standard\" for capturing nuanced, subjective, and value-laden concepts that are difficult to define with rules.\n",
        "\n",
        "**How it Works**: The process focuses on learning preferences.\n",
        "1.  A prompt is given to the LLM, which generates two or more different responses (e.g., Response A, Response B).\n",
        "2.  A human labeler reads the prompt and the responses and indicates which one they prefer (e.g., `A` is better than `B`).\n",
        "3.  This process is repeated thousands of times, creating a large dataset of human preferences.\n",
        "4.  A separate reward model (RM) is trained on this dataset to predict which response a human would prefer. The RM learns to output a scalar score (a reward) that reflects this preference.\n",
        "\n",
        "**Where it Excels**:\n",
        "-   **Subjectivity & Style**: Teaching an AI to be funny, poetic, or empathetic.\n",
        "-   **Helpfulness & Harmlessness**: Aligning models with complex human values that go beyond simple right/wrong answers.\n",
        "-   **Summarization**: Creating summaries that are not just factually correct but also intuitive and easy to understand.\n",
        "\n",
        "### **🤖 RLMF: Machine Feedback**\n",
        "\n",
        "This is the method we used in our tutorial. The reward signal comes from an automated, objective, and verifiable source.\n",
        "\n",
        "**How it Works**: The reward function is an explicit program or model that checks for correctness based on predefined rules.\n",
        "    -   A sentiment classifier checks for positive language.\n",
        "    -   A unit test suite checks if generated code compiles and runs correctly.\n",
        "    -   A validator checks if the output conforms to a specific format (e.g., valid JSON).\n",
        "\n",
        "**Where it Excels**:\n",
        "-   **Coding**: The reward can be `+1` if the code passes all unit tests, and `0` otherwise.\n",
        "-   **Mathematics**: The reward is high if the model's final answer matches the correct solution.\n",
        "-   **Structured Data Generation**: The reward is high if the output is a perfectly formatted JSON object or XML file.\n",
        "\n",
        "### **📜 RLAIF: AI Feedback**\n",
        "\n",
        "This approach aims to solve the biggest bottleneck of RLHF: the time and cost of collecting human feedback. Instead of humans, it uses a powerful \"critic\" LLM to provide the preference labels.\n",
        "\n",
        "**How it Works**: This is the core idea behind **Constitutional AI**, pioneered by Anthropic.\n",
        "1.  A \"constitution\" is written. This is a set of principles and rules for the desired AI behavior (e.g., \"Choose the response that is more helpful and less harmful,\" \"Avoid manipulative or toxic language\").\n",
        "2.  The LLM generates two responses (A and B) to a prompt.\n",
        "3.  A powerful, separate \"critic\" LLM is prompted to evaluate both responses *according to the constitution* and explain which one is better.\n",
        "4.  This creates an AI-generated preference label (`A > B`), which is then used to train a Reward Model, just as human labels would be.\n",
        "\n",
        "**Where it Excels**:\n",
        "-   **Scalability**: Drastically reduces the need for human labelers, allowing for much larger preference datasets.\n",
        "-   **Safety & Ethics**: Excellent for enforcing explicit ethical principles and reducing harmful, toxic, or biased outputs at scale.\n",
        "-   **Transparency**: The reasoning for a preference is tied back to an explicit principle in the constitution.\n",
        "\n",
        "| Feedback Type      | Reward Source                                     | Pros                                                 | Excels In                                             |\n",
        "| ------------------ | ------------------------------------------------- | ---------------------------------------------------- | ----------------------------------------------------- |\n",
        "| RL**H**F   | Human preference labels                           | Great for nuance, values, and quality | Subjective style, creativity, harmlessness |\n",
        "| RL**M**F | A program, classifier, or set of rules           | Objective, fast, cheap, and verifiable            | Coding, math, structured data formatting             |\n",
        "| RL**AI**F     | An LLM \"critic\" guided by a constitution         | Scalable, enforces explicit principles       | Safety alignment, reducing toxicity, ethical scaling |"
      ]
    },
    {
      "cell_type": "markdown",
      "metadata": {
        "id": "OuFQtacEHhWS"
      },
      "source": [
        "## Beyond PPO: other RL algorithms for LLMs\n",
        "\n",
        "We used PPO, a powerful and trusted algorithm from the `trl` library. However, the field is moving at an incredible pace, and researchers are constantly developing simpler, more efficient, and more stable alternatives to PPO. Here are a few of the most important recent developments.\n",
        "\n",
        "### **🎯 DPO** (Direct Preference Optimization)\n",
        "\n",
        "DPO has rapidly become a popular alternative to PPO due to its simplicity and stability. It was a breakthrough that showed you don't actually need an explicit, separately trained reward model.\n",
        "\n",
        "**Core Idea**: DPO cleverly reframes the problem. Instead of the two-stage process of \"1. Train a Reward Model, then 2. Use RL to satisfy it,\" DPO directly fine-tunes the policy on the preference data itself. It uses a loss function that directly increases the probability of preferred responses and decreases the probability of dispreferred ones, while a KL-divergence term keeps the policy from straying too far from a reference model.\n",
        "\n",
        "**Why It's a Big Deal**:\n",
        "-   **Simpler**: It completely eliminates the need to train, store, and run inference with a separate reward model, cutting the complexity of the RLHF pipeline in half.\n",
        "-   **More Stable**: It avoids the common RL problem where the policy finds an exploit in a flawed reward model. By training directly on preferences, it's more robust.\n",
        "\n",
        "**Further Reading**: [Direct Preference Optimization: Your Language Model is Secretly a Reward Model](https://arxiv.org/abs/2305.18290)\n",
        "\n",
        "\n",
        "### **🎲 RLOO** (REINFORCE Leave-One-Out)\n",
        "\n",
        "This algorithm goes \"back to basics,\" showing that the simple REINFORCE algorithm we learned earlier can be made powerful enough for modern LLMs with a clever trick.\n",
        "\n",
        "**Core Idea**: The main weakness of vanilla REINFORCE is the high variance of its reward signal. RLOO tackles this by creating a much better baseline for calculating the advantage. For a given prompt, it generates *multiple* responses. To calculate the advantage for any single response, it uses the average reward of **all other \"sibling\" responses** as a baseline. A response is only positively reinforced if it's better than the average of its peers generated from the same prompt.\n",
        "\n",
        "**Why It's a Big Deal**: It makes the simple and elegant REINFORCE algorithm viable for LLM fine-tuning. It's much simpler to implement than PPO because it doesn't require a separate critic/value function network, yet it achieves competitive performance by drastically reducing variance.\n",
        "\n",
        "**Further Reading**: [Back to Basics: Revisiting REINFORCE-Style Optimization for Learning from Human Feedback in LLMs](https://arxiv.org/abs/2402.14740)\n",
        "\n",
        "\n",
        "### **🏅 GRPO** (Group Relative Policy Optimization)\n",
        "\n",
        "Developed for the high-performing **DeepSeek-Math** model, GRPO is a specialized algorithm designed for tasks where there can be multiple correct solutions of varying quality, such as mathematical reasoning.\n",
        "\n",
        "**Core Idea**: GRPO generalizes DPO from handling a *pair* of responses to handling a *group* of ranked responses. For a single math problem, the model might generate several different potential solutions. These solutions are then scored by a verifier (e.g., a Python interpreter that checks the final answer). GRPO's loss function then trains the policy to understand the *relative ranking* of the entire group—it learns to assign a higher probability to the best solution than the second-best, a higher probability to the second-best than the third-best, and so on.\n",
        "\n",
        "**Why It's a Big Deal**: It is extremely effective for complex reasoning tasks. By generating and learning from a diverse group of candidate solutions, the model is more likely to discover a correct pathway. GRPO then efficiently extracts the maximum amount of learning signal from this entire group, far more than a simple pairwise preference could provide.\n",
        "\n",
        "**Further Reading**: [DeepSeekMath: Pushing the Limits of Mathematical Reasoning in Open Language Models](https://arxiv.org/abs/2402.03300)"
      ]
    },
    {
      "cell_type": "markdown",
      "metadata": {
        "id": "yIX82F6zFVW7"
      },
      "source": [
        "## Final Words\n",
        "\n",
        "This concludes our journey into Reinforcement Learning!\n",
        "\n",
        "The principles of policy, reward, and optimization remain the same, whether you're solving a simple grid world or aligning a massive AI model. We hope you enjoyed this tutorial and are excited to see how you build on this knowledge! 💡🎓📚🧠"
      ]
    }
  ],
  "metadata": {
    "colab": {
      "provenance": [],
      "include_colab_link": true
    },
    "kernelspec": {
      "display_name": "Python 3",
      "name": "python3"
    },
    "language_info": {
      "name": "python"
    }
  },
  "nbformat": 4,
  "nbformat_minor": 0
}